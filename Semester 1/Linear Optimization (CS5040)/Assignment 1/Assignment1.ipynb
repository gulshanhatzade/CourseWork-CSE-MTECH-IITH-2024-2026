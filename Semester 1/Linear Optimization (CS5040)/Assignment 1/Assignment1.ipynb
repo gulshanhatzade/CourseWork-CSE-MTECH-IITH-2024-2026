{
  "cells": [
    {
      "cell_type": "markdown",
      "id": "d8eeeafa-b5cd-410c-a4b7-e05b8bfea312",
      "metadata": {
        "id": "d8eeeafa-b5cd-410c-a4b7-e05b8bfea312"
      },
      "source": [
        "# Assignment 1\n",
        "\n",
        "## Assumption\n",
        "1. Polytope is non-degenerate.\n",
        "2. Polytope is bounded\n",
        "3. Rak of A is n\n",
        "\n",
        "Implement the simplex algorithm to maximize the objective function, You need to implement the method discussed in class.\n",
        "\n",
        "Input: CSV file with m+2 rows and n+1 column.\n",
        "             The first row excluding the last element is the initial feasible point z of length n\n",
        "             The second row excluding the last element is the cost vector c of length n\n",
        "             The last column excluding the top two elements is the constraint vector b of length m\n",
        "             Rows third to m+2 and column one to n is the matrix A of size m*n\n",
        "\n",
        "Output: You need to print the sequence of vertices visited and the value of the objective function at that vertex"
      ]
    },
    {
      "cell_type": "markdown",
      "id": "a743c83e-4ad9-4a5b-9aa3-ce5e6d7ee0d7",
      "metadata": {
        "id": "a743c83e-4ad9-4a5b-9aa3-ce5e6d7ee0d7"
      },
      "source": [
        "## Used Functions\n"
      ]
    },
    {
      "cell_type": "markdown",
      "id": "1e436ea1-2e65-4571-8fea-8c8c31c50b34",
      "metadata": {
        "id": "1e436ea1-2e65-4571-8fea-8c8c31c50b34"
      },
      "source": [
        "## imports\n",
        "**Details of Libraries:**\n",
        "   - **`numpy`** - Importing for the numerical computations, like matrix operations & vector manipulations.\n",
        "   - **`matplotlib.pyplot`**: Importing for the creation of plots that helps in visualizing results.\n",
        "   - **`scipy.linalg.null_space`**: Importing for the computing of null space of an matrix, useful in the linear programming & feasibility checks.\n",
        "   - **`seaborn`**: The visualization library built on top of `matplotlib`, will be used here for enhancing aesthetic quality of the plots.\n",
        "   - **`csv`**: For reading & writing CSV files containing input data."
      ]
    },
    {
      "cell_type": "code",
      "execution_count": 16,
      "id": "f6bd1ed5-23c5-4dc9-8d92-e91818e9c365",
      "metadata": {
        "id": "f6bd1ed5-23c5-4dc9-8d92-e91818e9c365"
      },
      "outputs": [],
      "source": [
        "# importing the necessary libraries\n",
        "import numpy as np\n",
        "import matplotlib.pyplot as plt\n",
        "from scipy.linalg import null_space\n",
        "from scipy.optimize import linprog\n",
        "import seaborn as sns\n",
        "import csv"
      ]
    },
    {
      "cell_type": "markdown",
      "id": "f88893a0-1eb4-4425-bd9c-6aa56c928d23",
      "metadata": {
        "id": "f88893a0-1eb4-4425-bd9c-6aa56c928d23"
      },
      "source": [
        "## read_csv\n",
        "This `read_csv` function will read i/p CSV file & extracts required components for simplex algorithm. It will open file & convert data from that file into structured NumPy arrays-  first row going for parsing as initial feasible solution, second row as cost vector, &  an last column of remaining rows as right-hand side vector. Preceding columns from those rows form constraint matrix. This function makes sure that data is correctly structured & also ready for  the use in solving linear programming problem and also streamlining input process & minimizing manual errors.\n"
      ]
    },
    {
      "cell_type": "code",
      "execution_count": 17,
      "id": "82f2297a-75cc-4a3e-af18-df05a390121f",
      "metadata": {
        "id": "82f2297a-75cc-4a3e-af18-df05a390121f"
      },
      "outputs": [],
      "source": [
        "def read_csv(filename):\n",
        "    # to read CSV file (input) and extract init_feasible_sol, cost_vec, A, and rhs_vec matrix\n",
        "    with open(filename, newline='') as csvfile:\n",
        "        reader = csv.reader(csvfile)\n",
        "        data = list(reader)\n",
        "\n",
        "    # Extracting the initial feasible solution from 1st row\n",
        "    init_feasible_sol = np.array([float(x) for x in data[0][:-1]])\n",
        "\n",
        "    # Extracting the cost vector from the second row\n",
        "    cost_vec = np.array([float(x) for x in data[1][:-1]])\n",
        "\n",
        "    # Extracti gthe right-hand side (RHS) vector from  remaining rows\n",
        "    rhs_vec = np.array([float(row[-1]) for row in data[2:]])\n",
        "\n",
        "    # Extracting constraints matrix\n",
        "    A = np.array([[float(x) for x in row[:-1]] for row in data[2:]])\n",
        "\n",
        "    return A, init_feasible_sol, rhs_vec, cost_vec"
      ]
    },
    {
      "cell_type": "markdown",
      "id": "cdd45f92-3542-4178-aed9-a26361d40a05",
      "metadata": {
        "id": "cdd45f92-3542-4178-aed9-a26361d40a05"
      },
      "source": [
        "## Reading & Visualizing Input Data\n",
        "\n",
        "This code is reading CSV input file using `read_csv` function for extrating necessary components for simplex algorithm, such as constraint matrix \\the \\), initial feasible solution, cost vectors, & right-hand side vector. It will print the matrices to console for verification. Additionally, the heatmap of constraint matrix \\the \\) is plotted using `seaborn` library for visualzing represent structure of constraints. This will helps us in understanding relationships between variables & constraints in linear programming problem.\n"
      ]
    },
    {
      "cell_type": "code",
      "execution_count": 18,
      "id": "dc535df5-204b-4968-a7a0-0f430fd61a7a",
      "metadata": {
        "colab": {
          "base_uri": "https://localhost:8080/",
          "height": 738
        },
        "id": "dc535df5-204b-4968-a7a0-0f430fd61a7a",
        "outputId": "6cad5441-bb08-457d-b17e-a6116467137e"
      },
      "outputs": [
        {
          "output_type": "stream",
          "name": "stdout",
          "text": [
            "Constraint Matrix (A):\n",
            " [[ 0.  1.]\n",
            " [ 1.  0.]\n",
            " [-1. -1.]]\n",
            "\n",
            "Initial Feasible Solution (init_feasible_sol): [0. 0.]\n",
            "\n",
            "Cost Vector (cost_vec): [5. 2.]\n",
            "\n",
            "Right-Hand Side Vector (rhs_vec): [1. 1. 1.]\n"
          ]
        },
        {
          "output_type": "display_data",
          "data": {
            "text/plain": [
              "<Figure size 800x600 with 2 Axes>"
            ],
            "image/png": "[encoded data removed]"
          },
          "metadata": {}
        }
      ],
      "source": [
        "# to read the CSV file (input)\n",
        "A, init_feasible_sol, rhs_vec, cost_vec = read_csv('testcase_1.csv')\n",
        "\n",
        "# Printing the matrices\n",
        "print(\"Constraint Matrix (A):\\n\", A)\n",
        "print(\"\\nInitial Feasible Solution (init_feasible_sol):\", init_feasible_sol)\n",
        "print(\"\\nCost Vector (cost_vec):\", cost_vec)\n",
        "print(\"\\nRight-Hand Side Vector (rhs_vec):\", rhs_vec)\n",
        "\n",
        "# Ploting heatmap of constraint matrix A\n",
        "plt.figure(figsize=(8, 6))\n",
        "sns.heatmap(A, annot=True, cmap=\"YlGnBu\", cbar=True)\n",
        "plt.title('Heatmap of Constraint Matrix (A)')\n",
        "plt.xlabel('Variables')\n",
        "plt.ylabel('Constraints')\n",
        "plt.show()"
      ]
    },
    {
      "cell_type": "markdown",
      "id": "241d1501-8964-4061-b09c-22005d55afe2",
      "metadata": {
        "id": "241d1501-8964-4061-b09c-22005d55afe2"
      },
      "source": [
        "##  Identifying Tight Rows in Constraint Matrix\n",
        "\n",
        "`find_tight_rows` function identifies which constraints in matrix \\( A \\) are tight for given initial feasible solution. It perform this by computing the diff between result of dot product of \\( A \\) & initial solution, & right-hand side vector \\( b \\). If an absolute difference is smaller than the specified tolerance (\\( \\epsilon \\)), then that row is considered tight. Function then separates matrix \\( A \\) into 2  part-: `tight_rows`, which will be containing rows where constraints are tight, & `untight_rows`, which contains rows where constraints are not tight. This distinction is vey important to determinine which constraints are active in that feasible region of solution.\n"
      ]
    },
    {
      "cell_type": "code",
      "execution_count": 19,
      "id": "02c7b889-1ba4-4095-ad84-3e7fe594711c",
      "metadata": {
        "id": "02c7b889-1ba4-4095-ad84-3e7fe594711c"
      },
      "outputs": [],
      "source": [
        "# determining tight rows from constraint matrix\n",
        "def find_tight_rows(A, init_feasible_sol, rhs_vec, epsilon=1e-8):\n",
        "\n",
        "    # Checking if the diff is less than a small epsilon to identify tight rows\n",
        "    tight_mask = np.abs(np.dot(A, init_feasible_sol) - rhs_vec) < epsilon\n",
        "\n",
        "    # Selecting the rows where the constraint is tight\n",
        "    tight_rows = A[tight_mask]\n",
        "\n",
        "    # Selecting the rows where the constraint are not tight\n",
        "    untight_rows = A[~tight_mask]\n",
        "\n",
        "    return tight_mask, tight_rows, untight_rows"
      ]
    },
    {
      "cell_type": "markdown",
      "id": "1e34df15-00f4-445c-947f-263fcf559885",
      "metadata": {
        "id": "1e34df15-00f4-445c-947f-263fcf559885"
      },
      "source": [
        "## Identifying Tight & Untight Constraints for Initial Feasible Solution\n",
        "This code calls `find_tight_rows` function for determining  which constraints are tight for that given initial feasible solution. Function returns the mask which is indicating tightness of each constraint, as well as specific rows in constraint matrix \\( A \\) that are tight (`tight_rows`) & those that are not found tight (`untight_rows`). This separation is important for the understanding of which constraints actively define feasible region of current solution in our simplex algorithm.\n"
      ]
    },
    {
      "cell_type": "code",
      "execution_count": 20,
      "id": "b43a435a-00d5-4cb6-8d99-1b671e9984f1",
      "metadata": {
        "id": "b43a435a-00d5-4cb6-8d99-1b671e9984f1"
      },
      "outputs": [],
      "source": [
        "# Find tight rows for initial feasible solution\n",
        "mask, tight_rows, untight_rows = find_tight_rows(A, init_feasible_sol, rhs_vec)"
      ]
    },
    {
      "cell_type": "markdown",
      "id": "291fe645-2bb2-4d39-a326-a04cbcd26052",
      "metadata": {
        "id": "291fe645-2bb2-4d39-a326-a04cbcd26052"
      },
      "source": [
        "##  feasible_to_vertex\n",
        "`feasible_to_vertex` function is designed for converting initial feasible solution into vertex of feasible region for linear programming problem. It will starts by calculating the cost at initial solution & then identifies tight constraints using our `find_tight_rows` function. If there are no tight constraints are present or rank of tight constraints is less than number of variables, function will determine direction for moving in solution space. This direction is derived either from null space of tight constraints or from the chosen randomly if no tight constraints exist. Function then will calculate step size (alpha usesd below) for moving in that direction which will be ensuring updated solution remains feasible. Process then repeats iteratively, updating solution & tracking visited vertices, until vertex is found or all the constraints are satisfied. This function is very crucial for generating feasible solutions that will guide simplex algorithm towards optimal solution.\n"
      ]
    },
    {
      "cell_type": "code",
      "execution_count": 21,
      "id": "c0a8dd6f-d714-4b56-bd77-19bfb19840ac",
      "metadata": {
        "id": "c0a8dd6f-d714-4b56-bd77-19bfb19840ac"
      },
      "outputs": [],
      "source": [
        "def feasible_to_vertex(A, rhs_vec, init_feasible_sol, cost_vec, n):\n",
        "    # to convert initial_feasible_point into a vertex.\n",
        "\n",
        "    vertices = []\n",
        "    costs = []\n",
        "    iteration = 0\n",
        "    costs.append(np.dot(cost_vec, init_feasible_sol))\n",
        "    vertices.append(init_feasible_sol)\n",
        "\n",
        "    mask, tight_rows, untight_rows = find_tight_rows(A, init_feasible_sol, rhs_vec)\n",
        "\n",
        "    while len(tight_rows) == 0 or np.linalg.matrix_rank(tight_rows) < n:\n",
        "        print(f\"Iteration {iteration}: Current Cost = {costs[-1]}, Current Vertex = {init_feasible_sol}\")\n",
        "\n",
        "        if len(tight_rows) != 0:\n",
        "            direction = null_space(tight_rows)[:, 0]  # Direction from null space\n",
        "        else:\n",
        "            direction = np.random.rand(untight_rows.shape[-1])  # Random direction\n",
        "\n",
        "        # initialize an empty arrya for alpha values\n",
        "        alphas = []\n",
        "\n",
        "        # iterating through the rhs_vec and untight_rows\n",
        "        for b_i, a_i in zip(rhs_vec[~mask], untight_rows):\n",
        "            # Compute the denominator, the dot product of a_i and the direction\n",
        "            denominator = np.dot(a_i, direction)\n",
        "\n",
        "            # Checking is  denominator is +ve i.e valid direction\n",
        "            if denominator > 0:\n",
        "                # calculateing the numerator the difference between b_i and the dot product of a_i with init_feasible_sol\n",
        "                numerator = b_i - np.dot(a_i, init_feasible_sol)\n",
        "\n",
        "                # Compute the alpha value as the ratio of numerator to denominator\n",
        "                alpha = numerator / denominator\n",
        "\n",
        "                # Appending the alpha value in th list alpha\n",
        "                alphas.append(alpha)\n",
        "\n",
        "        # Finding the minimum value of alphas\n",
        "        alpha = min(alphas)\n",
        "        # Updateing the initial feasible solution by moving in the direction specified by direction and step size will determined by alpha\n",
        "        init_feasible_sol = init_feasible_sol + alpha * direction\n",
        "\n",
        "        # Appending the updated feasible solution\n",
        "        vertices.append(init_feasible_sol)\n",
        "\n",
        "        #cost is computed as the dot product of the cost vector and the updated solution\n",
        "        costs.append(np.dot(cost_vec, init_feasible_sol))\n",
        "\n",
        "        mask, tight_rows, untight_rows = find_tight_rows(A, init_feasible_sol, rhs_vec)\n",
        "\n",
        "        # incrementing the iteration\n",
        "        iteration += 1\n",
        "\n",
        "    return init_feasible_sol, costs, vertices"
      ]
    },
    {
      "cell_type": "markdown",
      "id": "46459a63-2a8d-4798-8a1d-4cac601f41c9",
      "metadata": {
        "id": "46459a63-2a8d-4798-8a1d-4cac601f41c9"
      },
      "source": [
        "## Converting Initial Feasible Solution to a Vertex and Tracking Costs\n",
        "This code is defining no. of variables \\( n \\) based on number of columns in that constraint matrix \\( A \\). It calls `feasible_to_vertex` function to convet initial feasible solution into the vertex of feasible region. function returns updated solution (`init_feasible_sol`), sequence of costs at each vertex (`costs`), and list of vertices visited during process (`vertices`). This step is essential for moving from an initial feasible solution to an optimal vertex while tracking objective function values throughout iterations.\n"
      ]
    },
    {
      "cell_type": "code",
      "execution_count": 22,
      "id": "748c300f-f2a2-4641-ade9-cc2be0c459d9",
      "metadata": {
        "colab": {
          "base_uri": "https://localhost:8080/"
        },
        "id": "748c300f-f2a2-4641-ade9-cc2be0c459d9",
        "outputId": "607c8fe9-c389-4f75-f718-b0c9c7d29bb5"
      },
      "outputs": [
        {
          "output_type": "stream",
          "name": "stdout",
          "text": [
            "Iteration 0: Current Cost = 0.0, Current Vertex = [0. 0.]\n",
            "Iteration 1: Current Cost = 5.814649671421449, Current Vertex = [1.         0.40732484]\n"
          ]
        }
      ],
      "source": [
        "# Defining number of variables\n",
        "n = A.shape[1]\n",
        "\n",
        "# Convert feasible point to a vertex\n",
        "init_feasible_sol, costs, vertices = feasible_to_vertex(A, rhs_vec, init_feasible_sol, cost_vec, n)"
      ]
    },
    {
      "cell_type": "markdown",
      "id": "ea4009c0-2d2a-4606-b5b9-2759c535401f",
      "metadata": {
        "id": "ea4009c0-2d2a-4606-b5b9-2759c535401f"
      },
      "source": [
        "## Plotting Cost Changes During Conversion to the Vertex\n",
        "\n",
        "This code is plotting changes in objective function value over the iterations as initial feasible solution is converted into the vertex. The `costs` list, which is containsing objective values at each vertex visited, is used for creating line plot with iteration numbers on x axis & corresponding objective values on y axis. The plots plotted by this will help in visualizing how objective function evolves as algorithm progresses toward finding an optimal vertex in the feasible region. Grid & markers on plots are enhancing readability and also providing the clear view of changes at each of the step.\n"
      ]
    },
    {
      "cell_type": "code",
      "execution_count": 23,
      "id": "1f784003-4bb5-4dfd-98a8-79ac6388d9df",
      "metadata": {
        "colab": {
          "base_uri": "https://localhost:8080/",
          "height": 472
        },
        "id": "1f784003-4bb5-4dfd-98a8-79ac6388d9df",
        "outputId": "caf30cbe-be04-4555-e4f5-78d062464edf"
      },
      "outputs": [
        {
          "output_type": "display_data",
          "data": {
            "text/plain": [
              "<Figure size 640x480 with 1 Axes>"
            ],
            "image/png": "[encoded data removed]"
          },
          "metadata": {}
        }
      ],
      "source": [
        "# Plot cost changes during the conversion process\n",
        "plt.plot(range(len(costs)), costs, marker='o', color='blue')\n",
        "plt.xlabel('Iterations')\n",
        "plt.ylabel('Objective Value')\n",
        "plt.title('Cost Change During Conversion to Vertex')\n",
        "plt.grid(True)\n",
        "plt.show()"
      ]
    },
    {
      "cell_type": "markdown",
      "id": "f43fb18e-8a52-4174-8e07-16842d20565e",
      "metadata": {
        "id": "f43fb18e-8a52-4174-8e07-16842d20565e"
      },
      "source": [
        "## Computing Directions Using Tight Constraints\n",
        "\n",
        " Based on the tight constraints of the current solution, `compute_directions` function is computing direction vectors. It takes matrix of tight constraints as input, where each row represents the constraint that is active for the given solution. The function is attempting for calculation of the inverse of the tight rows matrix & returning its negative value. For determining the direction of movement within the feasible region, this inverse matrix is used. An exception is raised if the matrix is singular (that is non invertible), & function will  prints an error message, returning `None` to indicate that the direction could not be computed for that case. This function is very crucial for the simplex algorithm, as it helping to identify the direction in which that solution can move for improving that objective function.\n"
      ]
    },
    {
      "cell_type": "code",
      "execution_count": 24,
      "id": "842431c1-cd74-4efe-a11d-5b8863d78c27",
      "metadata": {
        "id": "842431c1-cd74-4efe-a11d-5b8863d78c27"
      },
      "outputs": [],
      "source": [
        "# This fuction is for computing vectors using the tight rows.\n",
        "def compute_directions(tight_rows):\n",
        "    #  It is taking matrix of tight constraints as input.\n",
        "    # Each row is representing the constraints that are currently active for given solution\n",
        "\n",
        "    try:\n",
        "        return -np.linalg.inv(tight_rows) # This is computing & returning - ve inverse of tight rows matrix.\n",
        "    except np.linalg.LinAlgError:\n",
        "        # If an tight_rows matrix is singular (i.e. non invertible) then the exception is raised.\n",
        "        print(\"It is Singular Matrix, So cannot compute directions.\")   # Handling non invertible matrix\n",
        "        return None # Returning None for indicating that the directions could not be computed"
      ]
    },
    {
      "cell_type": "markdown",
      "id": "41073a9c-c42d-47c8-b31e-663d6678921a",
      "metadata": {
        "id": "41073a9c-c42d-47c8-b31e-663d6678921a"
      },
      "source": [
        "## Vertex Optimization Using Simplex Method\n",
        " The `vertex_optimization` function implements core of Simplex method for optimizing solution iteratively by moving from one vertex to next. For storing visited vertices and corresponding objective function values, our function starts by initializing lists. It begins with given initial feasible solution & cost associated with it.\n",
        "\n",
        "In each iteration, function -\n",
        "1. Calls `find_tight_rows` function and identifies tight & untight constraints.\n",
        "2. Computes the potential directions for movement purpose based on tight constraints using function `compute_directions`.\n",
        "3. By checking which ones improve objective function , it Filters directions (positive dot product with cost vector).\n",
        "4. If no improving direction is found then the algorithm terminates which is indicating optimal solution had reached.\n",
        "5. If improving directions exist, then it is selecting first one & computes step sizes for untight constraints.\n",
        "6. Smallest positive alpha is determining step size to move towards next vertex.\n",
        "7. Solution is updated by moving along chosen direction & new vertex is added into the list of visited vertices.\n",
        "8. The objective function value at new solution is computed & is stored.\n",
        " Loop continues till no improving direction is found which is indicating that optimal solution had reached.\n",
        "\n",
        "Finally, function will returns optimal solution, sequence of costs, and the vertices visited during optimization process.\n",
        "\n",
        "This function forms the heart of Simplex algorithm hence most important, iterating through feasible solutions and then improving objective function at each step until the optimal vertex is found.\n"
      ]
    },
    {
      "cell_type": "code",
      "execution_count": 25,
      "id": "a8b85d83-bd52-48d0-9578-2f3e9c2bef15",
      "metadata": {
        "id": "a8b85d83-bd52-48d0-9578-2f3e9c2bef15"
      },
      "outputs": [],
      "source": [
        "# This function for optimizing an solution by moving iteratively to the next vertex from one vertex using Simplex Method.\n",
        "def vertex_optimization(A, rhs_vec, init_feasible_sol, cost_vec):\n",
        "\n",
        "    vertices = []   # This is  List for Storing the visited vertices\n",
        "    costs = []      # This is List for storing objective function at each vertex\n",
        "    iteration = 0\n",
        "\n",
        "    # Appending initial feasible solution &  its cost to lists.\n",
        "    vertices.append(init_feasible_sol)\n",
        "    costs.append(np.dot(cost_vec, init_feasible_sol))\n",
        "\n",
        "    while True:\n",
        "        # Current iteration details printing\n",
        "        print(f\"Iteration {iteration}: Current Cost = {costs[-1]}, Current Vertex = {init_feasible_sol}\")\n",
        "\n",
        "        # For current solution, identifing tight & untight constraints\n",
        "        mask, tight_rows, untight_rows = find_tight_rows(A, init_feasible_sol, rhs_vec)\n",
        "\n",
        "        # Computign the potential directions for the movement based on tight constraints\n",
        "        directions = compute_directions(tight_rows).T\n",
        "\n",
        "        # Checking dot product with cost vector & Filtering directions\n",
        "        positive_directions = []\n",
        "        for d in directions:\n",
        "            if np.dot(d, cost_vec) > 0:\n",
        "                positive_directions.append(d)\n",
        "\n",
        "        if not positive_directions:\n",
        "            break\n",
        "\n",
        "        # Choosing first improving direction\n",
        "        direction = positive_directions[0]\n",
        "\n",
        "        # Computeing step sizes - alphas, for untight constraints\n",
        "        dot_products = [np.dot(a_i, direction) for a_i in untight_rows]\n",
        "\n",
        "        # Filtering valid dot products & computing alphas\n",
        "        valid_alphas = []\n",
        "        for b_i, a_i, dot_product in zip(rhs_vec[~mask], untight_rows, dot_products):\n",
        "            if dot_product > 0:\n",
        "                alpha = (b_i - np.dot(a_i, init_feasible_sol)) / dot_product\n",
        "                valid_alphas.append(alpha)\n",
        "\n",
        "        # After that, valid_alphas will be containing computed alphas\n",
        "\n",
        "        # Updating  solution for next vertex along direction which is chosen\n",
        "        init_feasible_sol = init_feasible_sol + min(valid_alphas) * direction\n",
        "\n",
        "        # Recording new solution & its objective function value of that solution\n",
        "        costs.append(np.dot(cost_vec, init_feasible_sol))\n",
        "        vertices.append(init_feasible_sol)\n",
        "\n",
        "        # Incramenting counter of iterator\n",
        "        iteration += 1\n",
        "    # Returning here optimal solution, sequence of costs & visited vertices\n",
        "    return init_feasible_sol, costs, vertices\n"
      ]
    },
    {
      "cell_type": "markdown",
      "id": "b1d372cd-2171-4058-a47e-49c626624ecb",
      "metadata": {
        "id": "b1d372cd-2171-4058-a47e-49c626624ecb"
      },
      "source": [
        "## Optimizing Solution Using Simplex Method\n",
        "\n",
        "This code calls `vertex_optimization` function for performinig optimization process using Simplex method. This function takes constraint matrix \\( A \\), the right hand side vector \\( rhs\\_vec \\), the initial feasible solution `init_feasible_sol` also cost vector `cost_vec` as i/p. It will returns the optimal vertex (`optimal_vertex`), the sequence of costs at each visited vertex (`optimization_costs`), & also list of visited vertices (`optimization_vertices`). The optimization process iterates through feasible solutions, which improves the objective function at each step, until the optimal solution is found, which occurs at end.\n"
      ]
    },
    {
      "cell_type": "code",
      "execution_count": 26,
      "id": "d89327d8-fd27-4664-a95e-b39271df55ae",
      "metadata": {
        "colab": {
          "base_uri": "https://localhost:8080/"
        },
        "id": "d89327d8-fd27-4664-a95e-b39271df55ae",
        "outputId": "caae038a-0782-4c66-c6c8-1d8661799a41"
      },
      "outputs": [
        {
          "output_type": "stream",
          "name": "stdout",
          "text": [
            "Iteration 0: Current Cost = 7.0, Current Vertex = [1. 1.]\n"
          ]
        }
      ],
      "source": [
        "# Optimizing the vertex using the Simplex method\n",
        "optimal_vertex, optimization_costs, optimization_vertices = vertex_optimization(A, rhs_vec, init_feasible_sol, cost_vec)"
      ]
    },
    {
      "cell_type": "markdown",
      "id": "766182bf-756c-434a-a9f2-150d780343de",
      "metadata": {
        "id": "766182bf-756c-434a-a9f2-150d780343de"
      },
      "source": [
        "## Plotting Tight Constraints Over Iterations\n",
        "\n",
        "A plot will be generated by this code for showing how the no. of tight constraints changes over the iterations of the Simplex algorithm. For each of teh visited vertex in the list `vertices`, the `find_tight_rows` function is used to determine how many tight constraints are active at that particular vertex. This count is finally plotted against the no. of iterations.\n",
        "\n",
        "The plot helps  us to visualize how the set of active constraints evolves as progress of algorithm which provids insight into the changing feasible region and the constraints that govern solution at each step.\n"
      ]
    },
    {
      "cell_type": "code",
      "execution_count": 27,
      "id": "ff50eb30-256b-4a26-915e-ca5be5f03de4",
      "metadata": {
        "colab": {
          "base_uri": "https://localhost:8080/",
          "height": 410
        },
        "id": "ff50eb30-256b-4a26-915e-ca5be5f03de4",
        "outputId": "16d18466-6007-4bb2-efd5-f322da9b2bc0"
      },
      "outputs": [
        {
          "output_type": "display_data",
          "data": {
            "text/plain": [
              "<Figure size 600x400 with 1 Axes>"
            ],
            "image/png": "[encoded data removed]"
          },
          "metadata": {}
        }
      ],
      "source": [
        "plt.figure(figsize=(6, 4))\n",
        "plt.plot(range(len(vertices)), [np.sum(find_tight_rows(A, v, rhs_vec)[0]) for v in vertices], marker='o', color='yellow')\n",
        "plt.xlabel('Iteration')\n",
        "plt.ylabel('Number of Tight Constraints')\n",
        "plt.title('Number of Tight Constraints Over Iterations')\n",
        "plt.grid(True)\n",
        "plt.show()"
      ]
    },
    {
      "cell_type": "code",
      "execution_count": 28,
      "id": "bdb5547b-aaed-4f56-b186-fb08dfd04256",
      "metadata": {
        "colab": {
          "base_uri": "https://localhost:8080/"
        },
        "id": "bdb5547b-aaed-4f56-b186-fb08dfd04256",
        "outputId": "a18bec39-a6ba-4d8b-bc91-69d947fe3ce4"
      },
      "outputs": [
        {
          "output_type": "stream",
          "name": "stdout",
          "text": [
            "\n",
            "Sequence of visited Vertices are as follows:\n",
            "Iteration 0: Current Cost = 7.0, Current Vertex = [1. 1.]\n",
            "\n",
            "Optimal vertex is as follows:\n",
            "Point: [1. 1.]\n",
            "Value of objective function: 7.0\n"
          ]
        }
      ],
      "source": [
        "# Optimizing the vertex using the Simplex method\n",
        "print(\"\\nSequence of visited Vertices are as follows:\")\n",
        "optimal_vertex, optimization_costs, optimization_vertices = vertex_optimization(A, rhs_vec, init_feasible_sol, cost_vec)\n",
        "\n",
        "print(\"\\nOptimal vertex is as follows:\")\n",
        "print(f\"Point: {optimization_vertices[-1]}\")\n",
        "print(f\"Value of objective function: {optimization_costs[0-1]}\")\n"
      ]
    }
  ],
  "metadata": {
    "kernelspec": {
      "display_name": "Python 3 (ipykernel)",
      "language": "python",
      "name": "python3"
    },
    "language_info": {
      "codemirror_mode": {
        "name": "ipython",
        "version": 3
      },
      "file_extension": ".py",
      "mimetype": "text/x-python",
      "name": "python",
      "nbconvert_exporter": "python",
      "pygments_lexer": "ipython3",
      "version": "3.12.2"
    },
    "colab": {
      "provenance": []
    }
  },
  "nbformat": 4,
  "nbformat_minor": 5
}