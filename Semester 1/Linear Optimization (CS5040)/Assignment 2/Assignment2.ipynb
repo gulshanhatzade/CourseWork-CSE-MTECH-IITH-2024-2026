{
  "cells": [
    {
      "cell_type": "markdown",
      "id": "86e57f7b-ee6d-4ad7-a297-df073e255071",
      "metadata": {
        "id": "86e57f7b-ee6d-4ad7-a297-df073e255071"
      },
      "source": [
        "# Assignment 2\n",
        "\n",
        "## Assumption\n",
        "1. Polytope is non-degenerate.\n",
        "2. Rak of A is n\n",
        "\n",
        "Implement the simplex algorithm to maximize the objective function, You need to implement the method discussed in class.\n",
        "\n",
        "Input: CSV file with m+2 rows and n+1 column.\n",
        "             The first row excluding the last element is the initial feasible point z of length n\n",
        "             The second row excluding the last element is the cost vector c of length n\n",
        "             The last column excluding the top two elements is the constraint vector b of length m\n",
        "             Rows third to m+2 and column one to n is the matrix A of size m*n\n",
        "\n",
        "Output: You need to print the sequence of vertices visited and the value of the objective function at that vertex"
      ]
    },
    {
      "cell_type": "markdown",
      "id": "5eb4cef2-b495-4b7c-8dc6-1afbf107a9f3",
      "metadata": {
        "id": "5eb4cef2-b495-4b7c-8dc6-1afbf107a9f3"
      },
      "source": [
        "## Used Functions\n"
      ]
    },
    {
      "cell_type": "markdown",
      "id": "b326be1b-476e-4bb6-ac29-636a39ae1da7",
      "metadata": {
        "id": "b326be1b-476e-4bb6-ac29-636a39ae1da7"
      },
      "source": [
        "## imports\n",
        "**Details of Libraries:**\n",
        "   - **`numpy`** - Importing for the numerical computations, like matrix operations & vector manipulations.\n",
        "   - **`matplotlib.pyplot`**: Importing for the creation of plots that helps in visualizing results.\n",
        "   - **`scipy.linalg.null_space`**: Importing for the computing of null space of an matrix, useful in the linear programming & feasibility checks.\n",
        "   - **`seaborn`**: The visualization library built on top of `matplotlib`, will be used here for enhancing aesthetic quality of the plots.\n",
        "   - **`csv`**: For reading & writing CSV files containing input data.\n",
        "   - **`warnings`**: For controlling & manage warnings during program execution"
      ]
    },
    {
      "cell_type": "code",
      "execution_count": 4,
      "id": "7b264957-7cc8-443c-bc08-07a1ab9c1b85",
      "metadata": {
        "id": "7b264957-7cc8-443c-bc08-07a1ab9c1b85"
      },
      "outputs": [],
      "source": [
        "# importing the necessary libraries\n",
        "import numpy as np\n",
        "import matplotlib.pyplot as plt\n",
        "from scipy.linalg import null_space\n",
        "import seaborn as sns\n",
        "import csv\n",
        "import warnings\n",
        "\n",
        "# Suppress all warnings\n",
        "warnings.filterwarnings(\"ignore\")"
      ]
    },
    {
      "cell_type": "markdown",
      "id": "674cc44d-fe6e-4fc3-a7ee-35979d241c3f",
      "metadata": {
        "id": "674cc44d-fe6e-4fc3-a7ee-35979d241c3f"
      },
      "source": [
        "## Reading CSV file\n",
        "\n",
        "This `read_csv` function will read i/p CSV file & extract required components for simplex algorithm. It will open file & convert data from that file into structured NumPy arrays-  first row going for parsing as initial feasible solution, second row as cost vector, and last column of remaining rows as right-hand side vector. Preceeding columns from those rows form constraint matrix. This function makes sure that data is correctly structured & ready for use in solving linear programming problem and also streamlining input process & minimizing manual errors."
      ]
    },
    {
      "cell_type": "code",
      "execution_count": 5,
      "id": "8db8c0a1-7aa6-4ec6-b36a-3e0dc03ae887",
      "metadata": {
        "id": "8db8c0a1-7aa6-4ec6-b36a-3e0dc03ae887"
      },
      "outputs": [],
      "source": [
        "def read_csv(filename):\n",
        "    # to read CSV file (input) and extract init_feasible_sol, cost_vec, A, and rhs_vec matrix\n",
        "    with open(filename, newline='') as csvfile:\n",
        "        reader = csv.reader(csvfile)\n",
        "        data = list(reader)\n",
        "\n",
        "    # Extracting the initial feasible solution from 1st row\n",
        "    init_feasible_sol = np.array([float(x) for x in data[0][:-1]])\n",
        "\n",
        "    # Extracting the cost vector from the second row\n",
        "    cost_vec = np.array([float(x) for x in data[1][:-1]])\n",
        "\n",
        "    # Extracti gthe right-hand side (RHS) vector from  remaining rows\n",
        "    rhs_vec = np.array([float(row[-1]) for row in data[2:]])\n",
        "\n",
        "    # Extracting constraints matrix\n",
        "    A = np.array([[float(x) for x in row[:-1]] for row in data[2:]])\n",
        "\n",
        "    return A, init_feasible_sol, rhs_vec, cost_vec"
      ]
    },
    {
      "cell_type": "markdown",
      "id": "8a4c5317-7a25-4ea2-afd4-78e28f36d455",
      "metadata": {
        "id": "8a4c5317-7a25-4ea2-afd4-78e28f36d455"
      },
      "source": [
        "## Reading & Visualizing Input Data\n",
        "\n",
        "This code is reading CSV input file using `read_csv` function for extracting necessary components for simplex algorithm, such as constraint matrix, initial feasible solution, cost vectors & right-hand side vector. It will print the matrices to console for verification. Additionally, the heatmap of constraint matrix is plotted using `seaborn` library for visualzing represented structure of constraints. This will helps us in understanding relationships between variables & constraints in linear programming problem."
      ]
    },
    {
      "cell_type": "code",
      "execution_count": 6,
      "id": "8b121324-5e0c-48a5-9c1a-7483530883ba",
      "metadata": {
        "colab": {
          "base_uri": "https://localhost:8080/",
          "height": 738
        },
        "id": "8b121324-5e0c-48a5-9c1a-7483530883ba",
        "outputId": "2146c036-6209-4b07-d984-90e0980deff1"
      },
      "outputs": [
        {
          "output_type": "stream",
          "name": "stdout",
          "text": [
            "Constraint Matrix (A):\n",
            " [[ 1.  2.]\n",
            " [ 0. -1.]\n",
            " [-1. -1.]]\n",
            "\n",
            "Initial Feasible Solution (init_feasible_sol): [1. 1.]\n",
            "\n",
            "Cost Vector (cost_vec): [2. 1.]\n",
            "\n",
            "Right-Hand Side Vector (rhs_vec): [4. 1. 1.]\n"
          ]
        },
        {
          "output_type": "display_data",
          "data": {
            "text/plain": [
              "<Figure size 800x600 with 2 Axes>"
            ],
            "image/png": "[encoded data removed]"
          },
          "metadata": {}
        }
      ],
      "source": [
        "# to read the CSV file (input)\n",
        "A, init_feasible_sol, rhs_vec, cost_vec = read_csv('testcase_2.csv')\n",
        "\n",
        "# Printing the matrices\n",
        "print(\"Constraint Matrix (A):\\n\", A)\n",
        "print(\"\\nInitial Feasible Solution (init_feasible_sol):\", init_feasible_sol)\n",
        "print(\"\\nCost Vector (cost_vec):\", cost_vec)\n",
        "print(\"\\nRight-Hand Side Vector (rhs_vec):\", rhs_vec)\n",
        "\n",
        "# Ploting heatmap of constraint matrix A\n",
        "plt.figure(figsize=(8, 6))\n",
        "sns.heatmap(A, annot=True, cmap=\"YlGnBu\", cbar=True)\n",
        "plt.title('Heatmap of Constraint Matrix (A)')\n",
        "plt.xlabel('Variables')\n",
        "plt.ylabel('Constraints')\n",
        "plt.show()"
      ]
    },
    {
      "cell_type": "markdown",
      "id": "920c13dc-1c49-4a5e-8b26-6463e5ab6f6c",
      "metadata": {
        "id": "920c13dc-1c49-4a5e-8b26-6463e5ab6f6c"
      },
      "source": [
        "##  Identifying Tight Rows in Constraint Matrix\n",
        "\n",
        "`find_tight_rows` function identifies which constraints in matrix $A$ are tight for given initial feasible solution. It perform this by computing the difference between result of dot product of $A$ & initial solution and right-hand side vector $b$. If the absolute difference is smaller than the specified tolerance $epsilon$, then that row is considered tight. Function then separates matrix $A$ into 2 parts - `tight_rows`, which will be containing rows where constraints are tight & `untight_rows`, which contains rows where constraints are not tight. This distinction is very important to determine which constraints are active in that feasible region of solution."
      ]
    },
    {
      "cell_type": "code",
      "execution_count": 7,
      "id": "2e0de23d-4246-461f-a0a0-2aa6b3d2377f",
      "metadata": {
        "id": "2e0de23d-4246-461f-a0a0-2aa6b3d2377f"
      },
      "outputs": [],
      "source": [
        "# determining tight rows from constraint matrix\n",
        "def find_tight_rows(A, init_feasible_sol, rhs_vec, epsilon=1e-8):\n",
        "\n",
        "    # Checking if the diff is less than a small epsilon to identify tight rows\n",
        "    tight_mask = np.abs(np.dot(A, init_feasible_sol) - rhs_vec) < epsilon\n",
        "\n",
        "    # Selecting the rows where the constraint is tight\n",
        "    tight_rows = A[tight_mask]\n",
        "\n",
        "    # Selecting the rows where the constraint are not tight\n",
        "    untight_rows = A[~tight_mask]\n",
        "\n",
        "    return tight_mask, tight_rows, untight_rows"
      ]
    },
    {
      "cell_type": "markdown",
      "id": "33bb7841-d6fd-4f30-9f6b-3bbb20d0b940",
      "metadata": {
        "id": "33bb7841-d6fd-4f30-9f6b-3bbb20d0b940"
      },
      "source": [
        "## Identifying Tight & Untight Constraints for Initial Feasible Solution\n",
        "\n",
        "This code calls `find_tight_rows` function for determining  which constraints are tight for the given initial feasible solution. Function returns the mask which is indicating tightness of each constraint as well as specific rows in constraint matrix $A$ that are tight (`tight_rows`) & those that are found untight (`untight_rows`). This separation is important for the understanding of which constraints actively define the feasible region of current solution in our simplex algorithm."
      ]
    },
    {
      "cell_type": "code",
      "execution_count": 8,
      "id": "5b5f0c13-fda4-4dfc-85eb-6d0b4afcb3d2",
      "metadata": {
        "id": "5b5f0c13-fda4-4dfc-85eb-6d0b4afcb3d2"
      },
      "outputs": [],
      "source": [
        "# Find tight rows for initial feasible solution\n",
        "mask, tight_rows, untight_rows = find_tight_rows(A, init_feasible_sol, rhs_vec)"
      ]
    },
    {
      "cell_type": "markdown",
      "id": "4cc4ac0a-6862-4acc-b240-e3cc4b06ee19",
      "metadata": {
        "id": "4cc4ac0a-6862-4acc-b240-e3cc4b06ee19"
      },
      "source": [
        "## Transitioning to a Feasible Vertex\n",
        "\n",
        "`feasible_to_vertex` function is designed for converting initial feasible solution into vertex of feasible region for linear programming problem. It starts by calculating the cost at initial solution & then identifies tight constraints using our `find_tight_rows` function. If no tight constraints are present or rank of tight constraints is less than number of variables, function will determine direction for moving in solution space. This direction is derived either from null space of tight constraints or chosen randomly if no tight constraints exist. Function will then calculate step size (alpha used below) for moving in that direction which will be ensuring updated solution remains feasible. Process then repeats iteratively, updating solution & tracking visited vertices, until vertex is found and all the constraints are satisfied. This function is crucial for generating feasible solutions that will guide simplex algorithm towards optimal solution."
      ]
    },
    {
      "cell_type": "code",
      "execution_count": 9,
      "id": "edd23b64-1c04-41a6-b111-5d29b6449d15",
      "metadata": {
        "id": "edd23b64-1c04-41a6-b111-5d29b6449d15"
      },
      "outputs": [],
      "source": [
        "def feasible_to_vertex(A, rhs_vec, init_feasible_sol, cost_vec, n):\n",
        "    # to convert initial_feasible_point into a vertex\n",
        "\n",
        "    vertices = []\n",
        "    costs = []\n",
        "    iteration = 0\n",
        "    costs.append(np.dot(cost_vec, init_feasible_sol))\n",
        "    vertices.append(init_feasible_sol)\n",
        "\n",
        "    mask, tight_rows, untight_rows = find_tight_rows(A, init_feasible_sol, rhs_vec)\n",
        "\n",
        "    while len(tight_rows) == 0 or np.linalg.matrix_rank(tight_rows) < n:\n",
        "        print(f\"Iteration {iteration}: Current Cost = {costs[-1]}, Current Vertex = {init_feasible_sol}\")\n",
        "\n",
        "        if len(tight_rows) != 0:\n",
        "            direction = null_space(tight_rows)[:, 0]  # Direction from null space\n",
        "        else:\n",
        "            direction = np.random.rand(untight_rows.shape[-1])  # Random direction\n",
        "\n",
        "        # Initialize an empty array for alpha values\n",
        "        while True:\n",
        "            alphas = []\n",
        "\n",
        "            # Iterating through the rhs_vec and untight_rows\n",
        "            for b_i, a_i in zip(rhs_vec[~mask], untight_rows):\n",
        "                # Compute the denominator, the dot product of a_i and the direction\n",
        "                denominator = np.dot(a_i, direction)\n",
        "\n",
        "                # Check if the denominator is positive, indicating a valid direction\n",
        "                if denominator > 0:\n",
        "                    # Calculate the numerator as the difference between b_i and the dot product of a_i with init_feasible_sol\n",
        "                    numerator = b_i - np.dot(a_i, init_feasible_sol)\n",
        "\n",
        "                    # Compute the alpha value as the ratio of numerator to denominator\n",
        "                    alpha = numerator / denominator\n",
        "\n",
        "                    # Append the alpha value to the list\n",
        "                    alphas.append(alpha)\n",
        "\n",
        "            # Check if there are no valid alphas (unbounded case)\n",
        "            if len(alphas) == 0:\n",
        "                direction = -1 * direction  # Reverse the direction\n",
        "            else:\n",
        "                break  # Valid alphas found, exit the loop\n",
        "\n",
        "        # Finding the minimum value of alphas\n",
        "        alpha = min(alphas)\n",
        "        # Updateing the initial feasible solution by moving in the direction specified by direction and step size will determined by alpha\n",
        "        init_feasible_sol = init_feasible_sol + alpha * direction\n",
        "\n",
        "        # Appending the updated feasible solution\n",
        "        vertices.append(init_feasible_sol)\n",
        "\n",
        "        #cost is computed as the dot product of the cost vector and the updated solution\n",
        "        costs.append(np.dot(cost_vec, init_feasible_sol))\n",
        "\n",
        "        mask, tight_rows, untight_rows = find_tight_rows(A, init_feasible_sol, rhs_vec)\n",
        "\n",
        "        # incrementing the iteration\n",
        "        iteration += 1\n",
        "\n",
        "    return init_feasible_sol, costs, vertices"
      ]
    },
    {
      "cell_type": "markdown",
      "id": "029e991d-0105-409d-b338-db7451676f0f",
      "metadata": {
        "id": "029e991d-0105-409d-b338-db7451676f0f"
      },
      "source": [
        "## Converting Initial Feasible Solution to a Vertex and Tracking Costs\n",
        "\n",
        "This code is defining no. of variables (n) based on number of columns in that constraint matrix $A$. It calls `feasible_to_vertex` function to convert initial feasible solution into the vertex of feasible region. Function returns updated solution (`init_feasible_sol`), sequence of costs at each vertex (`costs`), and list of vertices visited during process (`vertices`). This step is essential for moving from an initial feasible solution to an optimal vertex while tracking objective function values throughout iterations."
      ]
    },
    {
      "cell_type": "code",
      "execution_count": 10,
      "id": "731b007e-f111-453b-be8c-16f153fc17ea",
      "metadata": {
        "colab": {
          "base_uri": "https://localhost:8080/"
        },
        "id": "731b007e-f111-453b-be8c-16f153fc17ea",
        "outputId": "aab648da-eaf9-4342-d0cc-7365b715ff80"
      },
      "outputs": [
        {
          "output_type": "stream",
          "name": "stdout",
          "text": [
            "Iteration 0: Current Cost = 3.0, Current Vertex = [1. 1.]\n",
            "Iteration 1: Current Cost = 3.6189366341346076, Current Vertex = [1.07929109 1.46035446]\n"
          ]
        }
      ],
      "source": [
        "# Defining number of variables\n",
        "n = A.shape[1]\n",
        "\n",
        "# Convert feasible point to a vertex\n",
        "init_feasible_sol, costs, vertices = feasible_to_vertex(A, rhs_vec, init_feasible_sol, cost_vec, n)"
      ]
    },
    {
      "cell_type": "markdown",
      "id": "fda3723f-d9f2-4d6c-b7e6-6538c54a3095",
      "metadata": {
        "id": "fda3723f-d9f2-4d6c-b7e6-6538c54a3095"
      },
      "source": [
        "## Plotting Cost Changes During Conversion to the Vertex\n",
        "\n",
        "This code is plotting changes in objective function values over the iterations as initial feasible solution is converted into the vertex. The `costs` list, containing objective values at each vertex visited, is used for creating line plot with iteration numbers on x-axis & corresponding objective values on y-axis. The plots plotted by this will help in visualizing how objective function evolves as algorithm progresses towards finding an optimal vertex in the feasible region. Grid & markers on plots are enhancing readability and also providing the clear view of changes at each step."
      ]
    },
    {
      "cell_type": "code",
      "execution_count": 11,
      "id": "41364ea6-b219-4491-901b-6e469396b8b9",
      "metadata": {
        "colab": {
          "base_uri": "https://localhost:8080/",
          "height": 472
        },
        "id": "41364ea6-b219-4491-901b-6e469396b8b9",
        "outputId": "026b6f3d-2439-4157-ed4a-b5f2c1dc67a5"
      },
      "outputs": [
        {
          "output_type": "display_data",
          "data": {
            "text/plain": [
              "<Figure size 640x480 with 1 Axes>"
            ],
            "image/png": "[encoded data removed]"
          },
          "metadata": {}
        }
      ],
      "source": [
        "# Plot cost changes during the conversion process\n",
        "plt.plot(range(len(costs)), costs, marker='o', color='blue')\n",
        "plt.xlabel('Iterations')\n",
        "plt.ylabel('Objective Value')\n",
        "plt.title('Cost Change During Conversion to Vertex')\n",
        "plt.grid(True)\n",
        "plt.show()"
      ]
    },
    {
      "cell_type": "markdown",
      "id": "3c877154-47e6-44af-9302-f95795d009eb",
      "metadata": {
        "id": "3c877154-47e6-44af-9302-f95795d009eb"
      },
      "source": [
        "### Computing Directions Using Tight Constraints\n",
        "\n",
        "The `compute_directions` function computes direction vectors based on the tight constraints of the current solution. It takes the matrix of tight constraints as input, where each row represents a constraint that is active for the given solution. The function attempts to calculate the inverse of the tight rows matrix and returns its negative value. This inverse matrix is used to determine the direction of movement within the feasible region. If the matrix is singular (non-invertible), an exception is raised and the function prints an error message, returning `None` to indicate that the direction could not be computed. This function is crucial for the simplex algorithm, as it helps identify the direction in which the solution can move to improve the objective function."
      ]
    },
    {
      "cell_type": "code",
      "execution_count": 12,
      "id": "2a08c6a2-3f28-4417-a426-d008380c305c",
      "metadata": {
        "id": "2a08c6a2-3f28-4417-a426-d008380c305c"
      },
      "outputs": [],
      "source": [
        "# This fuction is for computing vectors using the tight rows.\n",
        "def compute_directions(tight_rows):\n",
        "    #  It is taking matrix of tight constraints as input.\n",
        "    # Each row is representing the constraints that are currently active for given solution\n",
        "\n",
        "    try:\n",
        "        return -np.linalg.inv(tight_rows) # This is computing & returning - ve inverse of tight rows matrix.\n",
        "    except np.linalg.LinAlgError:\n",
        "        # If an tight_rows matrix is singular (i.e. non invertible) then the exception is raised.\n",
        "        print(\"It is Singular Matrix, So cannot compute directions.\")   # Handling non invertible matrix\n",
        "        return None # Returning None for indicating that the directions could not be computed\n"
      ]
    },
    {
      "cell_type": "markdown",
      "id": "337f647a-98fc-4dc1-91b0-32a382132dd2",
      "metadata": {
        "id": "337f647a-98fc-4dc1-91b0-32a382132dd2"
      },
      "source": [
        "## Vertex Optimization Using the Simplex Method\n",
        "\n",
        "The `vertex_optimization` function implements the core of the Simplex method to optimize the solution iteratively by moving from one vertex to the next. The function starts by initializing the lists to store the visited vertices and the corresponding objective function values. It begins with the given initial feasible solution and its associated cost.\n",
        "\n",
        "In each iteration, the function:\n",
        "1. Identifies the tight and untight constraints by calling the `find_tight_rows` function.\n",
        "2. Computes the potential directions for movement based on the tight constraints using the `compute_directions` function.\n",
        "3. Filters the directions by checking which ones improve the objective function (positive dot product with the cost vector).\n",
        "4. If no improving direction is found, the algorithm terminates, indicating the optimal solution has been reached.\n",
        "5. If improving directions exist, it selects the first one and computes step sizes (alphas) for the untight constraints.\n",
        "6. The smallest positive alpha determines the step size to move towards the next vertex.\n",
        "7. The solution is updated by moving along the chosen direction, and the new vertex is added to the list of visited vertices.\n",
        "8. The objective function value at the new solution is computed and stored.\n",
        "\n",
        "The loop continues until no improving direction is found, indicating that the optimal solution has been reached.\n",
        "\n",
        "Finally, the function returns the optimal solution, the sequence of costs, and the vertices visited during the optimization process.\n",
        "\n",
        "This function forms the heart of the Simplex algorithm, iterating through feasible solutions and improving the objective function at each step until an optimal vertex is found.\n"
      ]
    },
    {
      "cell_type": "code",
      "execution_count": 13,
      "id": "40bea86d-2463-4f2d-a00d-52f576a87d9d",
      "metadata": {
        "id": "40bea86d-2463-4f2d-a00d-52f576a87d9d"
      },
      "outputs": [],
      "source": [
        "# This function for optimizing an solution by moving iteratively to the next vertex from one vertex using Simplex Method.\n",
        "def vertex_optimization(A, rhs_vec, init_feasible_sol, cost_vec):\n",
        "\n",
        "    vertices = []   # This is  List for Storing the visited vertices\n",
        "    costs = []      # This is List for storing objective function at each vertex\n",
        "    iteration = 0\n",
        "\n",
        "    # Appending initial feasible solution &  its cost to lists.\n",
        "    vertices.append(init_feasible_sol)\n",
        "    costs.append(np.dot(cost_vec, init_feasible_sol))\n",
        "\n",
        "    while True:\n",
        "        # Current iteration details printing\n",
        "        print(f\"Iteration {iteration}: Current Cost = {costs[-1]}, Current Vertex = {init_feasible_sol}\")\n",
        "\n",
        "        # For current solution, identifing tight & untight constraints\n",
        "        mask, tight_rows, untight_rows = find_tight_rows(A, init_feasible_sol, rhs_vec)\n",
        "\n",
        "        # Computign the potential directions for the movement based on tight constraints\n",
        "        directions = compute_directions(tight_rows).T\n",
        "\n",
        "        # Checking dot product with cost vector & Filtering directions\n",
        "        positive_directions = []\n",
        "        for d in directions:\n",
        "            if np.dot(d, cost_vec) > 0:\n",
        "                positive_directions.append(d)\n",
        "\n",
        "        if not positive_directions:\n",
        "            break\n",
        "\n",
        "        # Choosing first improving direction\n",
        "        direction = positive_directions[0]\n",
        "\n",
        "        # Compute step sizes - alphas, for untight constraints\n",
        "        alphas = [(b_i - np.dot(a_i, init_feasible_sol)) / np.dot(a_i, direction)\n",
        "                  for b_i, a_i in zip(rhs_vec[~mask], untight_rows)]\n",
        "        positive_alphas = [alpha for alpha in alphas if alpha > 0]\n",
        "\n",
        "        if len(positive_alphas) == 0:  # Handling unbounded case\n",
        "            print(\"\\nThe problem is unbounded!\")\n",
        "            return None, costs, vertices\n",
        "\n",
        "\n",
        "        # Updating  solution for next vertex along direction which is chosen\n",
        "        init_feasible_sol = init_feasible_sol + min(positive_alphas) * direction\n",
        "\n",
        "        # Recording new solution & its objective function value of that solution\n",
        "        costs.append(np.dot(cost_vec, init_feasible_sol))\n",
        "        vertices.append(init_feasible_sol)\n",
        "\n",
        "        # Incramenting counter of iterator\n",
        "        iteration += 1\n",
        "    # Returning here optimal solution, sequence of costs & visited vertices\n",
        "    return init_feasible_sol, costs, vertices\n"
      ]
    },
    {
      "cell_type": "markdown",
      "id": "8d46106f-0984-41db-8194-4407a9aec360",
      "metadata": {
        "id": "8d46106f-0984-41db-8194-4407a9aec360"
      },
      "source": [
        "## Optimizing the Solution Using the Simplex Method\n",
        "\n",
        "This code snippet calls the `vertex_optimization` function to perform the optimization process using the Simplex method. The function takes the constraint matrix $A$, the right-hand side vector (`rhs_vec`), the initial feasible solution (`init_feasible_sol`), and the cost vector (`cost_vec`) as inputs. It returns the optimal vertex (`optimal_vertex`), the sequence of costs at each visited vertex (`optimization_costs`), and the list of visited vertices (`optimization_vertices`). The optimization process iterates through feasible solutions, improving the objective function at each step, until the optimal solution is found.\n"
      ]
    },
    {
      "cell_type": "markdown",
      "id": "8842880d-30fa-4a42-a58e-826fc4fbb050",
      "metadata": {
        "id": "8842880d-30fa-4a42-a58e-826fc4fbb050"
      },
      "source": [
        "## Checking for Unbounded Solution and Plotting Tight Constraints Over Iterations\n",
        "\n",
        "In this code block, the solution is first checked for unboundedness. If the `optimal_vertex` is `None` (indicating that no valid solution was found), it prints a message indicating that the problem is unbounded and stops further computation.\n",
        "\n",
        "If the solution is not unbounded, the code proceeds with further visualization. A plot is generated to show how the number of tight constraints changes over the iterations of the Simplex algorithm. For each visited vertex in the list `vertices`, the `find_tight_rows` function is used to determine how many tight constraints are active at that vertex. This count is then plotted against the iteration number.\n",
        "\n",
        "The plot helps visualize how the set of active constraints evolves as the algorithm progresses, providing insight into the changing feasible region and the constraints that govern the solution at each step.\n"
      ]
    },
    {
      "cell_type": "code",
      "execution_count": 14,
      "id": "26d096c9-3e8b-4931-a618-0268b03ca74d",
      "metadata": {
        "colab": {
          "base_uri": "https://localhost:8080/",
          "height": 410
        },
        "id": "26d096c9-3e8b-4931-a618-0268b03ca74d",
        "outputId": "658054d7-50f5-48b7-8c6b-640a6e8c2adb"
      },
      "outputs": [
        {
          "output_type": "display_data",
          "data": {
            "text/plain": [
              "<Figure size 600x400 with 1 Axes>"
            ],
            "image/png": "[encoded data removed]"
          },
          "metadata": {}
        }
      ],
      "source": [
        "# Check if the solution is unbounded\n",
        "\n",
        "# Proceed with plotting or further computations\n",
        "plt.figure(figsize=(6, 4))\n",
        "plt.plot(range(len(vertices)), [np.sum(find_tight_rows(A, v, rhs_vec)[0]) for v in vertices], marker='o', color='yellow')\n",
        "plt.xlabel('Iteration')\n",
        "plt.ylabel('Number of Tight Constraints')\n",
        "plt.title('Number of Tight Constraints Over Iterations')\n",
        "plt.grid(True)\n",
        "plt.show()"
      ]
    },
    {
      "cell_type": "code",
      "execution_count": 15,
      "id": "55027465",
      "metadata": {
        "colab": {
          "base_uri": "https://localhost:8080/"
        },
        "id": "55027465",
        "outputId": "bbb8be84-2697-4dc8-84bc-c29faddfa06c"
      },
      "outputs": [
        {
          "output_type": "stream",
          "name": "stdout",
          "text": [
            "\n",
            "Sequence of visited Vertices are as follows:\n",
            "Iteration 0: Current Cost = -7.0000000000000036, Current Vertex = [-6.  5.]\n",
            "Iteration 1: Current Cost = -1.0, Current Vertex = [ 0. -1.]\n",
            "Iteration 2: Current Cost = 11.0, Current Vertex = [ 6. -1.]\n",
            "\n",
            "Optimal vertex is as follows:\n",
            "Point: [ 6. -1.]\n",
            "Value of objective function: 11.0\n"
          ]
        }
      ],
      "source": [
        "# Optimizing the vertex using the Simplex method\n",
        "print(\"\\nSequence of visited Vertices are as follows:\")\n",
        "optimal_vertex, optimization_costs, optimization_vertices = vertex_optimization(A, rhs_vec, init_feasible_sol, cost_vec)\n",
        "\n",
        "print(\"\\nOptimal vertex is as follows:\")\n",
        "print(f\"Point: {optimization_vertices[-1]}\")\n",
        "print(f\"Value of objective function: {optimization_costs[-1]}\")\n"
      ]
    }
  ],
  "metadata": {
    "kernelspec": {
      "display_name": "Python 3 (ipykernel)",
      "language": "python",
      "name": "python3"
    },
    "language_info": {
      "codemirror_mode": {
        "name": "ipython",
        "version": 3
      },
      "file_extension": ".py",
      "mimetype": "text/x-python",
      "name": "python",
      "nbconvert_exporter": "python",
      "pygments_lexer": "ipython3",
      "version": "3.11.5"
    },
    "colab": {
      "provenance": []
    }
  },
  "nbformat": 4,
  "nbformat_minor": 5
}