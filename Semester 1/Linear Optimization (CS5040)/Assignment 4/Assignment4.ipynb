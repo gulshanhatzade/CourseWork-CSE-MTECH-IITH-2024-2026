{
  "cells": [
    {
      "cell_type": "markdown",
      "metadata": {
        "id": "vZbZ8JO6aI34"
      },
      "source": [
        "# Assignment 4\n",
        "\n",
        "## Assumption\n",
        "1. Rak of A is n\n",
        "\n",
        "Implement the simplex algorithm to maximize the objective function, You need to implement the method discussed in class.\n",
        "\n",
        "Input: CSV file with m+1 rows and n+1 column.\n",
        "             The first row excluding the last element is the cost vector c of length n\n",
        "             The last column excluding the top element is the constraint vector b of length m\n",
        "             Rows two to m+1 and column one to n is the matrix A of size m*n\n",
        "\n",
        "Output: You need to print the sequence of vertices visited and the value of the objective function at that vertex"
      ]
    },
    {
      "cell_type": "markdown",
      "metadata": {
        "id": "Kv1UxzNTaI35"
      },
      "source": [
        "## Used Functions\n"
      ]
    },
    {
      "cell_type": "markdown",
      "metadata": {
        "id": "0On60TasaI36"
      },
      "source": [
        "## imports\n",
        "**Details of Libraries:**\n",
        "   - **`numpy`** - Importing for the numerical computations, like matrix operations & vector manipulations.\n",
        "   - **`csv`**- For reading & writing CSV files containing input data\n",
        "   - **`warnings`** - For controlling & manage warnings during program execution"
      ]
    },
    {
      "cell_type": "code",
      "execution_count": 1,
      "metadata": {
        "id": "hj3yzCuZaI36"
      },
      "outputs": [],
      "source": [
        "import csv\n",
        "import numpy as np\n",
        "from scipy.linalg import null_space\n",
        "import warnings"
      ]
    },
    {
      "cell_type": "markdown",
      "metadata": {
        "id": "Tm2tue2faI36"
      },
      "source": [
        "## Reading CSV file\n",
        "This `read_csv` function will read i/p CSV file & extracts required components for simplex algorithm. It will open file & convert data from that file into structured NumPy arrays-  first row going for parsing as initial feasible solution, second row as cost vector, &  an last column of remaining rows as right-hand side vector. Preceding columns from those rows form constraint matrix. This function makes sure that data is correctly structured & also ready for  the use in solving linear programming problem and also streamlining input process & minimizing manual errors.\n"
      ]
    },
    {
      "cell_type": "code",
      "execution_count": 2,
      "metadata": {
        "id": "YDNEA5-7aI37"
      },
      "outputs": [],
      "source": [
        "# Suppress warnings\n",
        "warnings.filterwarnings(\"ignore\")\n",
        "\n",
        "np.random.seed(42)\n",
        "\n",
        "# Function to read CSV input\n",
        "def read_csv(filename):\n",
        "    with open(filename, newline='') as csvfile:\n",
        "        reader = csv.reader(csvfile)\n",
        "        data = list(reader)\n",
        "\n",
        "    # Extracting cost vector from the first row\n",
        "    cost_vec = np.array([float(x) for x in data[0][:-1]])\n",
        "\n",
        "    # Extracting RHS vector from the last column of remaining rows\n",
        "    rhs_vec = np.array([float(row[-1]) for row in data[1:]])\n",
        "\n",
        "    # Extracting constraints matrix from remaining rows\n",
        "    A = np.array([[float(x) for x in row[:-1]] for row in data[1:]])\n",
        "\n",
        "    return A, rhs_vec, cost_vec"
      ]
    },
    {
      "cell_type": "markdown",
      "metadata": {
        "id": "TJ8mKZiZaI37"
      },
      "source": [
        "## Printing Matrices\n",
        "\n",
        "This function is for printing key components of an mathematical model which is including constraint matrix, initial feasible solution, cost vector & right hand side vector, in structure & readable format.\n"
      ]
    },
    {
      "cell_type": "code",
      "execution_count": 3,
      "metadata": {
        "id": "kawzcRpvaI37"
      },
      "outputs": [],
      "source": [
        "# Function to compute directions\n",
        "def compute_directions(tight_rows):\n",
        "    try:\n",
        "        # Compute the negative inverse of the tight rows matrix\n",
        "        return -np.linalg.inv(tight_rows)\n",
        "    except np.linalg.LinAlgError:\n",
        "        # Handle the case where the tight rows matrix is singular (non-invertible)\n",
        "        print(\"Singular matrix encountered; cannot compute directions.\")\n",
        "        return None"
      ]
    },
    {
      "cell_type": "markdown",
      "metadata": {
        "id": "b_yE1ZSJaI37"
      },
      "source": [
        "##  Identifying Tight Rows in Constraint Matrix\n",
        "\n",
        "`find_tight_rows` function identifies which constraints in matrix \\( A \\) are tight for given initial feasible solution. It perform this by computing the diff between result of dot product of \\( A \\) & initial solution, & right-hand side vector \\( b \\). If an absolute difference is smaller than the specified tolerance (\\( \\epsilon \\)), then that row is considered tight. Function then separates matrix \\( A \\) into 2  part-: `tight_rows`, which will be containing rows where constraints are tight, & `untight_rows`, which contains rows where constraints are not tight. This distinction is vey important to determinine which constraints are active in that feasible region of solution.\n"
      ]
    },
    {
      "cell_type": "code",
      "execution_count": 4,
      "metadata": {
        "id": "wCtNMGRqaI38"
      },
      "outputs": [],
      "source": [
        "# determining tight rows from constraint matrix\n",
        "def find_tight_rows(A, feasible_sol, rhs_vec, epsilon=1e-8):\n",
        "    # Checking if the diff is less than a small epsilon to identify tight rows\n",
        "    tight_mask = np.abs(np.dot(A, feasible_sol) - rhs_vec) < epsilon\n",
        "\n",
        "    # Selecting the rows where the constraint is tight\n",
        "    tight_rows = A[tight_mask]\n",
        "\n",
        "    # Selecting the rows where the constraint are not tight\n",
        "    untight_rows = A[~tight_mask]\n",
        "\n",
        "    return tight_mask, tight_rows, untight_rows"
      ]
    },
    {
      "cell_type": "markdown",
      "metadata": {
        "id": "kdyZbFjPaI38"
      },
      "source": [
        "## Checking Degeneracy\n",
        "\n",
        "This function is checking for degeneracy in the linear programming problem by comparing no. of tight constraints (that is rows) to rank of matrix which is formed by those constraints. The message is displayed, if degeneracy is detected.\n"
      ]
    },
    {
      "cell_type": "code",
      "execution_count": 5,
      "metadata": {
        "id": "OU1TuvjdaI38"
      },
      "outputs": [],
      "source": [
        "# Function to check for degeneracy\n",
        "def check_degeneracy(tight_rows):\n",
        "    # Degeneracy occurs if the number of rows (constraints) exceeds the number of columns (variables)\n",
        "    return tight_rows.shape[0] > tight_rows.shape[1]"
      ]
    },
    {
      "cell_type": "markdown",
      "metadata": {
        "id": "BmWv3nShaI38"
      },
      "source": [
        "\n",
        "\n",
        "This function is for handling degeneracy in linear programming. By finding the reduced direction for movement within the feasible region. It is detecting degeneracy by comparing the no.r of tight constraints with the rank of the system. If it is detected then it calculates direction using the null space of tight constraints matrix.\n"
      ]
    },
    {
      "cell_type": "code",
      "execution_count": 6,
      "metadata": {
        "id": "DXnjGAZ-aI38"
      },
      "outputs": [],
      "source": [
        "# Function to adjust RHS vector for non-degeneracy\n",
        "def make_non_degenerate(rhs_vec, epsilon, factor=0.5):\n",
        "    # Adjust epsilon and perturb RHS to break degeneracy\n",
        "    epsilon *= factor\n",
        "    adjusted_rhs = rhs_vec + np.array([epsilon ** (i + 1) for i in range(len(rhs_vec))])\n",
        "    return adjusted_rhs, epsilon"
      ]
    },
    {
      "cell_type": "markdown",
      "metadata": {
        "id": "k-aYKG-9aI38"
      },
      "source": [
        "## Transitioning to a Feasible Vertex\n",
        "\n",
        "`feasible_to_vertex` function is designed for converting initial feasible solution into vertex of feasible region for linear programming problem. It will starts by calculating the cost at initial solution & then identifies tight constraints using our `find_tight_rows` function. If there are no tight constraints are present or rank of tight constraints is less than number of variables, function will determine direction for moving in solution space. This direction is derived either from null space of tight constraints or from the chosen randomly if no tight constraints exist. Function then will calculate step size (alpha usesd below) for moving in that direction which will be ensuring updated solution remains feasible. Process then repeats iteratively, updating solution & tracking visited vertices, until vertex is found or all the constraints are satisfied. This function is very crucial for generating feasible solutions that will guide simplex algorithm towards optimal solution.\n",
        "\n",
        "\n",
        "\n",
        "Additionally, this function is including several debug statements that are helping for tracking progress of the algorithm. It is printing current solution, tight constraints, direction vectors, and the sequence of the vertices which are visited during this process. This is mostly helpful for oberving the issues or understanding an iterative steps of the algorithm.\n",
        "\n",
        "The function is also handling degeneracy by invoking the same function. This will be ensuring that solution continues to progress. Even in cases where the system has redundant constraints or dependent constraints.\n",
        "\n",
        "This iterative process is ensuring that algorithm converges towards a feasible vertex, while maintaining feasibility at each step. This is making it robust and efficient for use in the simplex method.\n",
        "\n"
      ]
    },
    {
      "cell_type": "code",
      "execution_count": 7,
      "metadata": {
        "id": "1o6t0lzzaI38"
      },
      "outputs": [],
      "source": [
        "# Function to perform simplex algorithm from a feasible point to a vertex\n",
        "def feasible_to_vertex(A, rhs_vec, init_sol, cost_vec, n):\n",
        "    vertices, costs = [init_sol], [np.dot(cost_vec, init_sol)]\n",
        "    current_sol = init_sol\n",
        "    mask, tight_rows, untight_rows = find_tight_rows(A, init_sol, rhs_vec)\n",
        "    rank = np.linalg.matrix_rank(tight_rows) if len(tight_rows) > 0 else 0\n",
        "\n",
        "    # Return directly if the initial point is already a vertex\n",
        "    if rank == n:\n",
        "        return current_sol, costs, vertices\n",
        "\n",
        "    iteration = 0\n",
        "    while rank != n:\n",
        "        iteration += 1\n",
        "        if iteration > 10000:  # Prevent infinite loops\n",
        "            raise RuntimeError(\"Maximum iterations reached without finding a vertex.\")\n",
        "\n",
        "        null_space_matrix = null_space(tight_rows) if len(tight_rows) > 0 else None\n",
        "        u = null_space_matrix[:, 0] if null_space_matrix is not None else np.random.rand(A.shape[1])\n",
        "\n",
        "        # Compute step sizes for all untight constraints\n",
        "        alphas = [\n",
        "            (b - np.dot(a, current_sol)) / np.dot(a, u)\n",
        "            for b, a in zip(rhs_vec[~mask], untight_rows)\n",
        "            if np.dot(a, u) > 0  # Only consider positive denominators\n",
        "        ]\n",
        "\n",
        "        if not alphas:  # If no valid step size, the region is unbounded\n",
        "            print(\"The problem is unbounded.\")\n",
        "            return None, costs, vertices\n",
        "\n",
        "        alpha = min(alphas)\n",
        "        current_sol = current_sol + alpha * u\n",
        "\n",
        "        mask, tight_rows, untight_rows = find_tight_rows(A, current_sol, rhs_vec)\n",
        "        rank = np.linalg.matrix_rank(tight_rows) if len(tight_rows) > 0 else 0\n",
        "\n",
        "        costs.append(np.dot(cost_vec, current_sol))\n",
        "        vertices.append(current_sol)\n",
        "\n",
        "    if not check_degeneracy(tight_rows):\n",
        "        return current_sol, costs, vertices\n",
        "    else:\n",
        "        return None, costs, vertices\n"
      ]
    },
    {
      "cell_type": "markdown",
      "metadata": {
        "id": "auXnvYZKaI38"
      },
      "source": [
        "## Vertex Optimization Using Simplex Method\n",
        " The `vertex_optimization` function implements core of Simplex method for optimizing solution iteratively by moving from one vertex to next. For storing visited vertices and corresponding objective function values, our function starts by initializing lists. It begins with given initial feasible solution & cost associated with it.\n",
        "\n",
        "\n",
        "The function is moving iteratively from the feasible vertex towards optimal solution. It is identifying tight constraints, computing direction from the null space & calculates step sizes for updation of solution. The process continues til no further progression is possible. Then signaling that either the optimal solution is reached or no feasible direction exists. This method track the visited vertices & their associated costs as sol moving towards an optimality.\n",
        "\n",
        "\n",
        "In each iteration, the function -\n",
        "1. Calls `find_tight_rows` function and identifies tight & untight constraints.\n",
        "2. Computes the potential directions for movement purpose based on tight constraints using function `compute_directions`.\n",
        "3. By checking which ones improve objective function , it Filters directions (positive dot product with cost vector).\n",
        "4. If no improving direction is found then the algorithm terminates which is indicating optimal solution had reached.\n",
        "5. If improving directions exist, then it is selecting first one & computes step sizes for untight constraints.\n",
        "6. Smallest positive alpha is determining step size to move towards next vertex.\n",
        "7. Solution is updated by moving along chosen direction & new vertex is added into the list of visited vertices.\n",
        "8. The objective function value at new solution is computed & is stored. Loop continues till no improving direction is found which is indicating that optimal solution had reached.\n",
        "\n",
        "Finally, function will return optimal solution, sequence of costs, and the vertices visited during optimization process.\n",
        "\n",
        "This function forms the heart of Simplex algorithm hence most important, iterating through feasible solutions and then improving objective function at each step until the optimal vertex is found.\n"
      ]
    },
    {
      "cell_type": "code",
      "execution_count": 8,
      "metadata": {
        "id": "5Bwlrv7maI39"
      },
      "outputs": [],
      "source": [
        "# Function to perform vertex-to-vertex transitions\n",
        "def vertex_to_vertex(A, rhs_vec, init_sol, cost_vec):\n",
        "    # Storing initial solution and respective cost\n",
        "    vertices, costs = [init_sol], [np.dot(cost_vec, init_sol)]\n",
        "    # Starting with the initial solution\n",
        "    current_sol = init_sol\n",
        "\n",
        "    while True:\n",
        "        # finding which constraints are tight which is not\n",
        "        mask, tight_rows, untight_rows = find_tight_rows(A, current_sol, rhs_vec)\n",
        "\n",
        "        # Checking is the solution is degenerate\n",
        "        if check_degeneracy(tight_rows):\n",
        "            print(\"Degenerate solution encountered.\")\n",
        "            return None, costs, vertices\n",
        "\n",
        "        # Selecting directions that low the cost\n",
        "        directions = compute_directions(tight_rows).T\n",
        "        positive_directions = [d for d in directions if np.dot(d, cost_vec) > 0]\n",
        "\n",
        "        # if no direction then we are at optimal sol\n",
        "        if not positive_directions:\n",
        "            return current_sol, costs, vertices\n",
        "\n",
        "         # calculating alpah step sizes\n",
        "        u = positive_directions[0]\n",
        "        alphas = [\n",
        "            (b - np.dot(a, current_sol)) / np.dot(a, u)\n",
        "            for b, a in zip(rhs_vec[~mask], untight_rows)\n",
        "            if np.dot(a, u) > 0\n",
        "        ]\n",
        "        # if no a valid state then print problem is unbounded\n",
        "        if not alphas:\n",
        "            print(\"The problem is unbounded.\")\n",
        "            return None, costs, vertices\n",
        "\n",
        "        alpha = min(alphas)\n",
        "        current_sol = current_sol + alpha * u\n",
        "\n",
        "        # storing\n",
        "        costs.append(np.dot(cost_vec, current_sol))\n",
        "        vertices.append(current_sol)"
      ]
    },
    {
      "cell_type": "markdown",
      "metadata": {
        "id": "3hYp8g4-aI39"
      },
      "source": [
        "## Reading CSV File\n",
        "\n",
        "This code is for reading data from csv file of the testcase. This file is containing linear programming problem's matrices. It extracts the constraint matrix, initial feasible solution, right hand side vector & cost vector finally prints them for inspection.\n"
      ]
    },
    {
      "cell_type": "code",
      "execution_count": 9,
      "metadata": {
        "id": "f3a2nEhGaI39"
      },
      "outputs": [],
      "source": [
        "# Reading data from the CSV file\n",
        "A, rhs_vec, cost_vec = read_csv('testcase_7.csv')\n",
        "m, n = A.shape\n",
        "epsilon = 0.1\n",
        "attempts = 0"
      ]
    },
    {
      "cell_type": "markdown",
      "metadata": {
        "id": "GZqlkMXUaI39"
      },
      "source": [
        "## Converting Initial Feasible Solution to a Vertex and Tracking Costs\n",
        "This code is defining no. of variables \\( n \\) based on number of columns in that constraint matrix \\(A\\). It calls `feasible_to_vertex` function to convet initial feasible solution into the vertex of feasible region. function returns updated solution (`init_feasible_sol`), sequence of costs at each vertex (`costs`), and list of vertices visited during process (`vertices`). This step is essential for moving from an initial feasible solution to an optimal vertex while tracking objective function values throughout iterations.\n"
      ]
    },
    {
      "cell_type": "code",
      "execution_count": 10,
      "metadata": {
        "colab": {
          "base_uri": "https://localhost:8080/"
        },
        "id": "BSc1le1XaI39",
        "outputId": "3d8747dc-6b34-4a19-b40c-ddf6f51d1b82"
      },
      "outputs": [
        {
          "output_type": "stream",
          "name": "stdout",
          "text": [
            "Visited Vertices:\n",
            "Iteration 0: Cost = 0.0, Vertex = [0. 0.]\n",
            "Iteration 1: Cost = -2.282617519858235, Vertex = [-0.28261752 -0.71738248]\n",
            "Iteration 2: Cost = -3.0, Vertex = [-1.  0.]\n",
            "\n",
            "Optimal vertex is as follows:\n",
            "Point: [-1.5  0.5]\n",
            "Value of objective function: -3.5\n"
          ]
        }
      ],
      "source": [
        "while True:\n",
        "    if attempts > 0:\n",
        "        rhs_vec, epsilon = make_non_degenerate(rhs_vec, epsilon)\n",
        "\n",
        "    # Finding an initial feasible vertex\n",
        "    feasible_result = feasible_to_vertex(A, rhs_vec, np.zeros(n), cost_vec, n)\n",
        "    if feasible_result[0] is None:\n",
        "        attempts += 1\n",
        "        break\n",
        "    # performing vertex to vertex optimization\n",
        "    init_vertex, feas_costs, feas_vertices = feasible_result\n",
        "    vertex_result = vertex_to_vertex(A, rhs_vec, init_vertex, cost_vec)\n",
        "\n",
        "    if vertex_result[0] is None:\n",
        "        attempts += 1\n",
        "        break\n",
        "    # get optimal vertex and cost\n",
        "    opt_vertex, opt_costs, opt_vertices = vertex_result\n",
        "    break\n",
        "\n",
        "# Print visited vertices and costs\n",
        "print(\"Visited Vertices:\")\n",
        "for i, (v, c) in enumerate(zip(feas_vertices, feas_costs)):\n",
        "    print(f\"Iteration {i}: Cost = {c}, Vertex = {v}\")\n",
        "\n",
        "# Print optimal solution\n",
        "print(\"\\nOptimal vertex is as follows:\")\n",
        "print(f\"Point: {opt_vertices[-1]}\")\n",
        "print(f\"Value of objective function: {opt_costs[-1]}\")"
      ]
    }
  ],
  "metadata": {
    "kernelspec": {
      "display_name": "Python 3 (ipykernel)",
      "language": "python",
      "name": "python3"
    },
    "language_info": {
      "codemirror_mode": {
        "name": "ipython",
        "version": 3
      },
      "file_extension": ".py",
      "mimetype": "text/x-python",
      "name": "python",
      "nbconvert_exporter": "python",
      "pygments_lexer": "ipython3",
      "version": "3.12.2"
    },
    "colab": {
      "provenance": []
    }
  },
  "nbformat": 4,
  "nbformat_minor": 0
}