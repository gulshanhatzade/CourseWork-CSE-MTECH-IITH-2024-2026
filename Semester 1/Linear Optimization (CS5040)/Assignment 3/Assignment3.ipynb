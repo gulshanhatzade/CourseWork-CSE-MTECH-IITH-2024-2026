{
  "cells": [
    {
      "cell_type": "markdown",
      "metadata": {
        "id": "htbrkaNBZcGx"
      },
      "source": [
        "# Assignment 3\n",
        "\n",
        "## Assumption\n",
        "1. Rank of A is n\n",
        "\n",
        "Implement the simplex algorithm to maximize the objective function, You need to implement the method discussed in class.\n",
        "\n",
        "Input: CSV file with m+2 rows and n+1 column.\n",
        "             The first row excluding the last element is the initial feasible point z of length n\n",
        "             The second row excluding the last element is the cost vector c of length n\n",
        "             The last column excluding the top two elements is the constraint vector b of length m\n",
        "             Rows third to m+2 and column one to n is the matrix A of size m*n\n",
        "\n",
        "Output: You need to print the sequence of vertices visited and the value of the objective function at that vertex\n"
      ]
    },
    {
      "cell_type": "markdown",
      "metadata": {
        "id": "I4kWlr6MZcGy"
      },
      "source": [
        "## Used Functions\n"
      ]
    },
    {
      "cell_type": "markdown",
      "metadata": {
        "id": "rs3ZR5EKZcGy"
      },
      "source": [
        "## imports\n",
        "**Details of Libraries:**\n",
        "   - **`numpy`** - Importing for the numerical computations, like matrix operations & vector manipulations.\n",
        "   - **`matplotlib.pyplot`**: Importing for the creation of plots that helps in visualizing results.\n",
        "   - **`scipy.linalg.null_space`**: Importing for the computing of null space of an matrix, useful in the linear programming & feasibility checks.\n",
        "   - **`seaborn`**: The visualization library built on top of `matplotlib`, will be used here for enhancing aesthetic quality of the plots.\n",
        "   - **`csv`**: For reading & writing CSV files containing input data.\n",
        "   - **`warnings`**: For controlling & manage warnings during program execution"
      ]
    },
    {
      "cell_type": "code",
      "execution_count": 1,
      "metadata": {
        "id": "dfUC3j3HZcGy"
      },
      "outputs": [],
      "source": [
        "## imports\n",
        "import csv\n",
        "import numpy as np\n",
        "from scipy.linalg import null_space\n",
        "import matplotlib.pyplot as plt\n",
        "import seaborn as sns\n",
        "import warnings"
      ]
    },
    {
      "cell_type": "code",
      "execution_count": 2,
      "metadata": {
        "id": "rZVdFSmbZcGz"
      },
      "outputs": [],
      "source": [
        "# Suppress all warnings\n",
        "warnings.filterwarnings(\"ignore\")\n",
        "\n",
        "np.random.seed(42)"
      ]
    },
    {
      "cell_type": "markdown",
      "metadata": {
        "id": "-HBvgEb1ZcGz"
      },
      "source": [
        "## Reading CSV file\n",
        "This `read_csv` function will read i/p CSV file & extracts required components for simplex algorithm. It will open file & convert data from that file into structured NumPy arrays-  first row going for parsing as initial feasible solution, second row as cost vector, &  an last column of remaining rows as right-hand side vector. Preceding columns from those rows form constraint matrix. This function makes sure that data is correctly structured & also ready for  the use in solving linear programming problem and also streamlining input process & minimizing manual errors.\n"
      ]
    },
    {
      "cell_type": "code",
      "execution_count": 3,
      "metadata": {
        "id": "ParbKyxxZcGz"
      },
      "outputs": [],
      "source": [
        "def read_csv(filename):\n",
        "    # to read CSV file (input) and extract init_feasible_sol, cost_vec, A, and rhs_vec matrix\n",
        "    with open(filename, newline='') as csvfile:\n",
        "        reader = csv.reader(csvfile)\n",
        "        data = list(reader)\n",
        "\n",
        "    # Extracting the initial feasible solution from 1st row\n",
        "    init_feasible_sol = np.array([float(x) for x in data[0][:-1]])\n",
        "\n",
        "    # Extracting the cost vector from the second row\n",
        "    cost_vec = np.array([float(x) for x in data[1][:-1]])\n",
        "\n",
        "    # Extracting the right-hand side (RHS) vector from  remaining rows\n",
        "    rhs_vec = np.array([float(row[-1]) for row in data[2:]])\n",
        "\n",
        "    # Extracting constraints matrix\n",
        "    A = np.array([[float(x) for x in row[:-1]] for row in data[2:]])\n",
        "\n",
        "    return A, init_feasible_sol, rhs_vec, cost_vec"
      ]
    },
    {
      "cell_type": "markdown",
      "metadata": {
        "id": "fNU_MNWXZcGz"
      },
      "source": [
        "## Reading & Visualizing Input Data\n",
        "\n",
        "This code is reading CSV input file using `read_csv` function for extrating necessary components for simplex algorithm, such as constraint matrix \\the \\), initial feasible solution, cost vectors, & right-hand side vector. It will print the matrices to console for verification."
      ]
    },
    {
      "cell_type": "code",
      "execution_count": 4,
      "metadata": {
        "colab": {
          "base_uri": "https://localhost:8080/"
        },
        "id": "p3tmz70IZcGz",
        "outputId": "f238b9ff-9372-404c-aabd-8cc5873e9be1"
      },
      "outputs": [
        {
          "output_type": "stream",
          "name": "stdout",
          "text": [
            "Constraint Matrix (A):\n",
            " [[1. 1.]\n",
            " [1. 1.]\n",
            " [1. 0.]]\n",
            "\n",
            "Initial Feasible Solution (init_feasible_sol): [0. 0.]\n",
            "\n",
            "Cost Vector (cost_vec): [3. 3.]\n",
            "\n",
            "Right-Hand Side Vector (rhs_vec): [3. 3. 2.]\n"
          ]
        }
      ],
      "source": [
        "# to read the CSV file (input)\n",
        "A, init_feasible_sol, rhs_vec, cost_vec = read_csv('testcase_3.csv')\n",
        "\n",
        "# Printing the matrices\n",
        "print(\"Constraint Matrix (A):\\n\", A)\n",
        "print(\"\\nInitial Feasible Solution (init_feasible_sol):\", init_feasible_sol)\n",
        "print(\"\\nCost Vector (cost_vec):\", cost_vec)\n",
        "print(\"\\nRight-Hand Side Vector (rhs_vec):\", rhs_vec)"
      ]
    },
    {
      "cell_type": "markdown",
      "metadata": {
        "id": "x4m_dF22ZcG0"
      },
      "source": [
        "##  Identifying Tight Rows in Constraint Matrix\n",
        "\n",
        "`find_tight_rows` function identifies which constraints in matrix \\( A \\) are tight for given initial feasible solution. It perform this by computing the diff between result of dot product of \\( A \\) & initial solution, & right-hand side vector \\( b \\). If an absolute difference is smaller than the specified tolerance (\\( \\epsilon \\)), then that row is considered tight. Function then separates matrix \\( A \\) into 2  part-: `tight_rows`, which will be containing rows where constraints are tight, & `untight_rows`, which contains rows where constraints are not tight. This distinction is vey important to determinine which constraints are active in that feasible region of solution.\n"
      ]
    },
    {
      "cell_type": "code",
      "execution_count": 5,
      "metadata": {
        "id": "2RxRF-HZZcG0"
      },
      "outputs": [],
      "source": [
        "# determining tight rows from constraint matrix\n",
        "def find_tight_rows(A, init_feasible_sol, rhs_vec, epsilon=1e-8):\n",
        "\n",
        "    # Checking if the diff is less than a small epsilon to identify tight rows\n",
        "    tight_mask = np.abs(np.dot(A, init_feasible_sol) - rhs_vec) < epsilon\n",
        "\n",
        "    # Selecting the rows where the constraint is tight\n",
        "    tight_rows = A[tight_mask]\n",
        "\n",
        "    # Selecting the rows where the constraint are not tight\n",
        "    untight_rows = A[~tight_mask]\n",
        "\n",
        "    return tight_mask, tight_rows, untight_rows"
      ]
    },
    {
      "cell_type": "markdown",
      "metadata": {
        "id": "JSrbQfusZcG0"
      },
      "source": [
        "## Identifying Tight & Untight Constraints for Initial Feasible Solution\n",
        "This code calls `find_tight_rows` function for determining  which constraints are tight for that given initial feasible solution. Function returns the mask which is indicating tightness of each constraint, as well as specific rows in constraint matrix \\( A \\) that are tight (`tight_rows`) & those that are not found tight (`untight_rows`). This separation is important for the understanding of which constraints actively define feasible region of current solution in our simplex algorithm.\n"
      ]
    },
    {
      "cell_type": "code",
      "execution_count": 6,
      "metadata": {
        "id": "VnuoDL6BZcG0"
      },
      "outputs": [],
      "source": [
        "# Find tight rows for initial feasible solution\n",
        "mask, tight_rows, untight_rows = find_tight_rows(A, init_feasible_sol, rhs_vec)"
      ]
    },
    {
      "cell_type": "markdown",
      "metadata": {
        "id": "OakwxKORZcG0"
      },
      "source": [
        "### Computing Directions Using Tight Constraints\n",
        "\n",
        "The `compute_directions` function computes direction vectors based on the tight constraints of the current solution. It takes the matrix of tight constraints as input, where each row represents a constraint that is active for the given solution. The function attempts to calculate the inverse of the tight rows matrix and returns its negative value. This inverse matrix is used to determine the direction of movement within the feasible region. If the matrix is singular (non-invertible), an exception is raised, and the function prints an error message, returning `None` to indicate that the direction could not be computed. This function is crucial for the simplex algorithm, as it helps identify the direction in which the solution can move to improve the objective function.\n"
      ]
    },
    {
      "cell_type": "code",
      "execution_count": 7,
      "metadata": {
        "id": "E6MOgsBzZcG1"
      },
      "outputs": [],
      "source": [
        "# This fuction is for computing vectors using the tight rows.\n",
        "def compute_directions(tight_rows):\n",
        "    #  It is taking matrix of tight constraints as input.\n",
        "    # Each row is representing the constraints that are currently active for given solution\n",
        "\n",
        "    try:\n",
        "        return -np.linalg.inv(tight_rows) # This is computing & returning - ve inverse of tight rows matrix.\n",
        "    except np.linalg.LinAlgError:\n",
        "        # If an tight_rows matrix is singular (i.e. non invertible) then the exception is raised.\n",
        "        print(\"It is Singular Matrix, So cannot compute directions.\")   # Handling non invertible matrix\n",
        "        return None # Returning None for indicating that the directions could not be computed"
      ]
    },
    {
      "cell_type": "markdown",
      "metadata": {
        "id": "jAF6zeH4ZcG1"
      },
      "source": [
        "## Checking Degeneracy\n",
        "\n",
        "This function is checking for degeneracy in the linear programming problem by comparing no. of tight constraints (that is rows) to rank of matrix which is formed by those constraints."
      ]
    },
    {
      "cell_type": "code",
      "execution_count": 8,
      "metadata": {
        "id": "Bh5RbK-IZcG1"
      },
      "outputs": [],
      "source": [
        "def check_degeneracy(tight):\n",
        "    # Checking if it is degenerate occurs. Degeneracy occurs if rows > columns\n",
        "    return tight.shape[0] > tight.shape[1]"
      ]
    },
    {
      "cell_type": "markdown",
      "metadata": {
        "id": "bAKvZinNZcG1"
      },
      "source": [
        "## Making a System Non-Degenerate\n",
        "\n",
        "The `make_non_degenerate` function adjusts a given vector to ensure it is non-degenerate by introducing small perturbations based on a diminishing epsilon factor. In this case, it modifies each element of the input vector (`original_b`) by adding progressively smaller adjustments, making the system less likely to have degenerate constraints.\n",
        "\n",
        "The steps involved in the algorithm are as follows -\n",
        "\n",
        "1) Initialize Epsilon Reduction: Reduce the input epsilon value by the specified `factor` (default is 0.5).\n",
        "\n",
        "2) Iterative Adjustment: For each element in `original_b`, compute an adjustment as $epsilon^{(i+1)}$, where i is the index of the element. Add this adjustment to the original value and store the result.\n",
        "\n",
        "3) Return Adjusted Vector: Convert the adjusted values to a numpy array and return it along with the updated epsilon.\n",
        "\n",
        "The function outputs the updated vector with adjusted values and the reduced epsilon value."
      ]
    },
    {
      "cell_type": "code",
      "execution_count": 9,
      "metadata": {
        "id": "DDw6ZaqkZcG1"
      },
      "outputs": [],
      "source": [
        "def make_non_degenerate(original_b, epsilon, factor=0.5):\n",
        "    # Reducing epsilon by the factor\n",
        "    epsilon = epsilon * factor\n",
        "\n",
        "    # Creating a list to store updated values\n",
        "    updated_b = []\n",
        "\n",
        "    # Update each value in original_b\n",
        "    for i in range(len(original_b)):\n",
        "\n",
        "        adjustment = epsilon ** (i + 1)\n",
        "\n",
        "        new_value = original_b[i] + adjustment\n",
        "\n",
        "        # Storing the updated value\n",
        "        updated_b.append(new_value)\n",
        "\n",
        "    # Convert the updated values to a numpy array\n",
        "    updated_b_array = np.array(updated_b)\n",
        "\n",
        "    return updated_b_array, epsilon"
      ]
    },
    {
      "cell_type": "markdown",
      "metadata": {
        "id": "v31BI14xZcG1"
      },
      "source": [
        "## Transitioning to a Feasible Vertex\n",
        "\n",
        "The `feasible_to_vertex` function identifies a feasible vertex from a given initial feasible solution, ensuring it satisfies the constraints and lies at a vertex of the feasible region. This function iteratively moves from an initial feasible solution to a vertex while satisfying constraints until a solution with full rank is found. It handles degeneracy by checking the validity of the tight constraints at each step.\n",
        "\n",
        "The steps involved in the algorithm are as follows -\n",
        "\n",
        "1) Initialization: Store the initial feasible solution (`init_feasible_sol`) and compute its cost. Check for the tight and untight constraints for the initial solution using `find_tight_rows`.\n",
        "\n",
        "2) Check Vertex Condition: Compute the rank of the tight constraints. If the rank equals the problem dimension (n), the current solution is a vertex, and the function ends successfully.\n",
        "\n",
        "3) Iterative Search for a Vertex: If the initial solution is not a vertex, iterate to find a valid vertex with the following steps -\n",
        "+ Compute a direction vector (`u`) using the null space of the tight constraints.\n",
        "+ Determine step sizes (`alphas`) to move along the direction vector while maintaining feasibility.\n",
        "+ Select the smallest positive step size and update the solution.\n",
        "+ Check for tight and untight constraints again, and update the rank.\n",
        "\n",
        "4) Degeneracy Check: If degeneracy is present (`check_degeneracy`), return early to handle it externally.\n",
        "\n",
        "The function outputs the feasible vertex found, values of cost function at visited points, and list of vertices (feasible points) visited during the optimization process or returns `None` if degenracy is detected."
      ]
    },
    {
      "cell_type": "code",
      "execution_count": 10,
      "metadata": {
        "id": "7MN_97ILZcG1"
      },
      "outputs": [],
      "source": [
        "def feasible_to_vertex(A, rhs_vec, init_feasible_sol, cost_vec, n):\n",
        "    # array for storing visited vertices and respective costs\n",
        "    vertices = []\n",
        "    costs = []\n",
        "\n",
        "    # Adding the the initial feasible vertex and cost to the array\n",
        "    vertices.append(init_feasible_sol)\n",
        "    costs.append(np.dot(cost_vec, init_feasible_sol))  # Calculating the initial cost\n",
        "\n",
        "    # now setting the current solution to the initial feasible solution\n",
        "    track_curr_feasible = init_feasible_sol\n",
        "    iteration = 0\n",
        "\n",
        "    # Finding tight and untight rows for the initial feasible solution\n",
        "    mask, tight_rows, untight_rows = find_tight_rows(A, init_feasible_sol, rhs_vec)\n",
        "\n",
        "    # computing rank of the tight rows\n",
        "    if len(tight_rows) != 0:\n",
        "        rank = np.linalg.matrix_rank(tight_rows)  # Number of independent constraints\n",
        "    else:\n",
        "        rank = 0\n",
        "\n",
        "    # determining is initial feasible point is a vertex\n",
        "    if rank != n:\n",
        "        print(\"Since this feasible point is not a vertex, searching for a vertex.\\n\")\n",
        "    else:\n",
        "        # If it is a vertex return the current solution\n",
        "        return track_curr_feasible, costs, vertices\n",
        "\n",
        "    # Iterate until we find a feasible vertex\n",
        "    while rank != n:\n",
        "        iteration += 1\n",
        "\n",
        "        # Avoiding infinite loops (terminate after too many iterations)\n",
        "        if iteration > 10000:\n",
        "            break\n",
        "\n",
        "        # computing a direction vector\n",
        "        if len(tight_rows) != 0:\n",
        "            null_space_matrix = null_space(tight_rows)\n",
        "            u = null_space_matrix[:, 0]\n",
        "        else:\n",
        "\n",
        "            u = np.random.rand(untight_rows.shape[-1])\n",
        "\n",
        "        # Find the step size (alpha) to move along the direction vector u\n",
        "        while True:\n",
        "            alphas = [\n",
        "                (_b_i - np.dot(a2_i, track_curr_feasible)) / np.dot(a2_i, u)\n",
        "                for _b_i, a2_i in zip(rhs_vec[~mask], untight_rows)\n",
        "            ]\n",
        "\n",
        "            all_alphas = [alpha for alpha in alphas if alpha > 0]\n",
        "\n",
        "            if len(all_alphas) == 0:\n",
        "\n",
        "                u = u * (-1)\n",
        "            else:\n",
        "                break\n",
        "\n",
        "        # Moving to the new feasible point using the smallest valid step size\n",
        "        alpha = min(all_alphas)\n",
        "        new_ver_opti = track_curr_feasible + alpha * u\n",
        "\n",
        "        # Updating tight and untight rows for the new point\n",
        "        mask, tight_rows, untight_rows = find_tight_rows(A, new_ver_opti, rhs_vec)\n",
        "        track_curr_feasible = new_ver_opti  # Updating the current feasible solution\n",
        "\n",
        "        # Updating the rank of the tight rows\n",
        "        if len(tight_rows) != 0:\n",
        "            rank = np.linalg.matrix_rank(tight_rows)\n",
        "        else:\n",
        "            rank = 0\n",
        "\n",
        "        # Recording the new vertex and its cost\n",
        "        costs.append(np.dot(cost_vec, new_ver_opti))\n",
        "        vertices.append(new_ver_opti)\n",
        "\n",
        "    # Checking for degeneracy\n",
        "    if not check_degeneracy(tight_rows):\n",
        "        return new_ver_opti, costs, vertices\n",
        "    else:\n",
        "        return (None,)"
      ]
    },
    {
      "cell_type": "markdown",
      "metadata": {
        "id": "RzC4ue-FZcG1"
      },
      "source": [
        "## Vertex-to-Vertex Optimization Using the Simplex Method\n",
        "\n",
        "The `vertex_to_vertex` function performs an iterative optimization process using the Simplex method, moving between feasible vertices to improve the objective function.\n",
        "\n",
        "The steps involved in the algorithm are as follows -\n",
        "\n",
        "1) Initialization: Start with an initial feasible solution (`init_feasible_sol`) and compute its cost. Store visited vertices and their costs.\n",
        "\n",
        "2) Finding Tight Constraints: Use `find_tight_rows` to identify tight and untight constraints at the current solution.\n",
        "\n",
        "3) Checking Degeneracy: If degeneracy is detected via `check_degeneracy`, the process terminates.\n",
        "\n",
        "4) Compute Directions: Calculate possible directions for movement (`compute_directions`). Select directions improving the objective function (positive dot product with `cost_vec`).\n",
        "\n",
        "5) Step Size and Update: Compute step sizes for untight constraints and filter for positive values. If no valid step size exists, the problem is unbounded. Otherwise, move to the next vertex using the smallest positive step size and update the solution.\n",
        "\n",
        "6) Termination: Repeat until no improving direction exists, indicating the optimal solution is reached.\n",
        "\n",
        "The algorithm outputs the optimal solution, the cost function values at each visited vertex and the sequence of vistied vertices."
      ]
    },
    {
      "cell_type": "code",
      "execution_count": 11,
      "metadata": {
        "id": "5m8fjaMoZcG1"
      },
      "outputs": [],
      "source": [
        "def vertex_to_vertex(A, rhs_vec, init_feasible_sol, cost_vec):\n",
        "    # Lists to store visited vertices and their costs\n",
        "    vertices = []\n",
        "    costs = []\n",
        "\n",
        "    # Starting with the initial feasible solution\n",
        "    track_curr_feasible = init_feasible_sol\n",
        "    new_ver_opti = track_curr_feasible\n",
        "\n",
        "    # Adding the cost of the initial solution\n",
        "    costs.append(np.dot(cost_vec, track_curr_feasible))\n",
        "    vertices.append(track_curr_feasible)\n",
        "\n",
        "    while True:\n",
        "        # Identifing which rowsare tight at the current feasible solution\n",
        "        mask, tight_rows, untight_rows = find_tight_rows(A, track_curr_feasible, rhs_vec)\n",
        "\n",
        "        # Check for degeneracy\n",
        "        if check_degeneracy(tight_rows):\n",
        "            return (None,)\n",
        "\n",
        "        # Compute possible directions\n",
        "        directions = compute_directions(tight_rows).T\n",
        "        pos_directions = []\n",
        "\n",
        "        for direction in directions:\n",
        "            if np.dot(direction, cost_vec) > 0:\n",
        "                pos_directions.append(direction)\n",
        "\n",
        "        if not pos_directions:\n",
        "            return new_ver_opti, costs, vertices\n",
        "\n",
        "        # first positive direction\n",
        "        u = pos_directions[0]\n",
        "        alphas = []\n",
        "\n",
        "        # step sizes for all untight constraints\n",
        "        for b_i, a2_i in zip(rhs_vec[~mask], untight_rows):\n",
        "            numerator = b_i - np.dot(a2_i, track_curr_feasible)  # Remaining margin\n",
        "            denominator = np.dot(a2_i, u)  # Impact of direction on constraint\n",
        "            alphas.append(numerator / denominator)\n",
        "\n",
        "        # Keep only positive step sizes\n",
        "        positive_alphas = [alpha for alpha in alphas if alpha > 0]\n",
        "\n",
        "        # the problem is unbounded ,If no valid step size exists,\n",
        "        if len(positive_alphas) == 0:\n",
        "            print(\"The problem is unbounded. An optimal solution cannot be found.\")\n",
        "            return None, costs, vertices\n",
        "\n",
        "        # Moving to the new vertex using the smallest positive step size\n",
        "        alpha = min(positive_alphas)\n",
        "        new_ver_opti = track_curr_feasible + alpha * u\n",
        "        track_curr_feasible = new_ver_opti\n",
        "\n",
        "        # storing the cost and vertex\n",
        "        costs.append(np.dot(cost_vec, new_ver_opti))\n",
        "        vertices.append(new_ver_opti)"
      ]
    },
    {
      "cell_type": "markdown",
      "metadata": {
        "id": "rUgLUCgSZcG1"
      },
      "source": [
        "## Main Optimization Loop\n",
        "\n",
        "The main function runs the process of solving a linear programming problem using a two-stage approach - moving to a feasible vertex and then optimizing through vertex-to-vertex traversal. It also makes sure that the problem remains non-degenerate through iterative adjustments. Here, it integrates the `feasible_to_vertex`, `vertex_to_vertex`, and `make_non_degenerate` functions. It first finds a feasible vertex and then optimizes the solution iteratively.\n",
        "\n",
        "The steps involved in the algorithm are as follows -\n",
        "\n",
        "1) Initialization: Set the input variables, such as the constraint matrix (`matrix_A`), original RHS vector (`vector_b_original`), initial feasible solution (`vector_z`), and cost vector (`vector_c`). Initialize epsilon for changes and an attempt counter.\n",
        "\n",
        "2) Iterative Adjustments: If degeneracy is detected, modify the RHS vector (`vector_b`) using the `make_non_degenerate` function with continuously reduced epsilon values.\n",
        "\n",
        "3) Feasible Vertex Search: Call `feasible_to_vertex` to find a feasible vertex. If unsuccessful, increment the attempt counter and restart.\n",
        "\n",
        "4) Vertex-to-Vertex Optimization: Use the `vertex_to_vertex` function to optimize the objective by traversing between feasible vertices. If unsuccessful, adjust for degeneracy and retry.\n",
        "\n",
        "The loop ends once both a feasible vertex and an optimal solution are found.\n",
        "\n",
        "The function outputs the optimal solution, the values of cost function during vertex-to-vertex optimization and list of all vertices visited."
      ]
    },
    {
      "cell_type": "code",
      "execution_count": null,
      "metadata": {
        "colab": {
          "base_uri": "https://localhost:8080/"
        },
        "id": "jD-Gkv8SZcG2",
        "outputId": "28600862-bc3d-4cd1-a027-fda9b07fc5cc"
      },
      "outputs": [
        {
          "output_type": "stream",
          "name": "stdout",
          "text": [
            "Since this feasible point is not a vertex, searching for a vertex.\n",
            "\n",
            "Since this feasible point is not a vertex, searching for a vertex.\n",
            "\n"
          ]
        }
      ],
      "source": [
        "# Main Optimization Loop\n",
        "\n",
        "m, n = len(rhs_vec), len(cost_vec)\n",
        "matrix_A = A\n",
        "vector_b_original = rhs_vec\n",
        "vector_z = init_feasible_sol\n",
        "vector_c = cost_vec\n",
        "dimension_n = n\n",
        "\n",
        "epsilon = 0.1\n",
        "attempt = 0\n",
        "vector_b = vector_b_original\n",
        "\n",
        "while True:\n",
        "    if attempt > 0:\n",
        "        vector_b, epsilon = make_non_degenerate(vector_b_original, epsilon)\n",
        "\n",
        "    outputs1 = feasible_to_vertex(matrix_A, vector_b, vector_z, vector_c, dimension_n)\n",
        "    if len(outputs1) == 1:\n",
        "        attempt += 1\n",
        "        continue\n",
        "\n",
        "    new_ver_opti, feas2vert_z_all_cost, feas2vert_z_all = outputs1\n",
        "\n",
        "    outputs2 = vertex_to_vertex(matrix_A, vector_b, new_ver_opti, vector_c)\n",
        "    if len(outputs2) == 1:\n",
        "        attempt += 1\n",
        "        continue\n",
        "\n",
        "    z_optimal, vert2vert_z_all_cost, vert2vert_z_all = outputs2\n",
        "    break"
      ]
    },
    {
      "cell_type": "markdown",
      "metadata": {
        "id": "rAPAJTmZZcG2"
      },
      "source": [
        "## Printing Results\n",
        "\n",
        "\n",
        "Print the sequence of visited vertices and their corresponding objective function costs during the feasible-to-vertex phase.\n",
        "\n",
        "Print the initial vertex obtained after transitioning from a feasible point.\n",
        "\n",
        "Print the optimal vertex and its cost after vertex-to-vertex optimization. Handle cases where the problem is unbounded."
      ]
    },
    {
      "cell_type": "code",
      "execution_count": null,
      "metadata": {
        "id": "r8TmQvSZZcG2"
      },
      "outputs": [],
      "source": [
        "print(\"Feasible point to vertex:\\n\")\n",
        "print(\"Sequence of visited Vertices are as follows:\")\n",
        "\n",
        "# Loop through the list of feasible points and their costs\n",
        "for index in range(len(feas2vert_z_all)):\n",
        "    print(f\"Vertex {index + 1}: {feas2vert_z_all[index]}, Cost {index + 1}: {feas2vert_z_all_cost[index]}\")\n",
        "\n",
        "print(\"\\nInitial vertex: \", new_ver_opti)\n",
        "\n",
        "print(\"\\nOptimal vertex is as follows:\")\n",
        "print(f\"Point: {vert2vert_z_all[0]}\")\n",
        "print(f\"Cost: {vert2vert_z_all_cost[0]}\")\n",
        "\n",
        "if np.all(z_optimal == None):\n",
        "    print(\"\\nThe problem is unbounded!\")\n",
        "else:\n",
        "    print(\"\\nOptimal vertex:\")\n",
        "    print(z_optimal)\n"
      ]
    }
  ],
  "metadata": {
    "kernelspec": {
      "display_name": "Python 3 (ipykernel)",
      "language": "python",
      "name": "python3"
    },
    "language_info": {
      "codemirror_mode": {
        "name": "ipython",
        "version": 3
      },
      "file_extension": ".py",
      "mimetype": "text/x-python",
      "name": "python",
      "nbconvert_exporter": "python",
      "pygments_lexer": "ipython3",
      "version": "3.12.2"
    },
    "colab": {
      "provenance": []
    }
  },
  "nbformat": 4,
  "nbformat_minor": 0
}