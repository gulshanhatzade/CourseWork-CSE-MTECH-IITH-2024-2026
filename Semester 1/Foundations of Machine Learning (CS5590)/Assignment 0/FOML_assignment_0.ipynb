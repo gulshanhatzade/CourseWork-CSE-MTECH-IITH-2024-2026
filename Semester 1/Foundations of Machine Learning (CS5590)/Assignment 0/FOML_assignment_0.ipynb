{
 "cells": [
  {
   "cell_type": "code",
   "execution_count": 5,
   "id": "c336828e-ef12-4e67-87af-110e343ffbd3",
   "metadata": {},
   "outputs": [
    {
     "name": "stdout",
     "output_type": "stream",
     "text": [
      "1.26.4\n",
      "Build Dependencies:\n",
      "  blas:\n",
      "    detection method: pkgconfig\n",
      "    found: true\n",
      "    include directory: C:/Users/gulsh/anaconda3/Library/include\n",
      "    lib directory: C:/Users/gulsh/anaconda3/Library/lib\n",
      "    name: mkl-sdl\n",
      "    openblas configuration: unknown\n",
      "    pc file directory: C:\\b\\abs_c1ywpu18ar\\croot\\numpy_and_numpy_base_1708638681471\\_h_env\\Library\\lib\\pkgconfig\n",
      "    version: '2023.1'\n",
      "  lapack:\n",
      "    detection method: internal\n",
      "    found: true\n",
      "    include directory: unknown\n",
      "    lib directory: unknown\n",
      "    name: dep1583119523984\n",
      "    openblas configuration: unknown\n",
      "    pc file directory: unknown\n",
      "    version: 1.26.4\n",
      "Compilers:\n",
      "  c:\n",
      "    commands: cl.exe\n",
      "    linker: link\n",
      "    name: msvc\n",
      "    version: 19.29.30154\n",
      "  c++:\n",
      "    commands: cl.exe\n",
      "    linker: link\n",
      "    name: msvc\n",
      "    version: 19.29.30154\n",
      "  cython:\n",
      "    commands: cython\n",
      "    linker: cython\n",
      "    name: cython\n",
      "    version: 3.0.8\n",
      "Machine Information:\n",
      "  build:\n",
      "    cpu: x86_64\n",
      "    endian: little\n",
      "    family: x86_64\n",
      "    system: windows\n",
      "  host:\n",
      "    cpu: x86_64\n",
      "    endian: little\n",
      "    family: x86_64\n",
      "    system: windows\n",
      "Python Information:\n",
      "  path: C:\\b\\abs_c1ywpu18ar\\croot\\numpy_and_numpy_base_1708638681471\\_h_env\\python.exe\n",
      "  version: '3.12'\n",
      "SIMD Extensions:\n",
      "  baseline:\n",
      "  - SSE\n",
      "  - SSE2\n",
      "  - SSE3\n",
      "  found:\n",
      "  - SSSE3\n",
      "  - SSE41\n",
      "  - POPCNT\n",
      "  - SSE42\n",
      "  - AVX\n",
      "  - F16C\n",
      "  - FMA3\n",
      "  - AVX2\n",
      "  not found:\n",
      "  - AVX512F\n",
      "  - AVX512CD\n",
      "  - AVX512_SKX\n",
      "  - AVX512_CLX\n",
      "  - AVX512_CNL\n",
      "  - AVX512_ICL\n",
      "\n"
     ]
    }
   ],
   "source": [
    "import numpy as np\n",
    "print(np.__version__)\n",
    "np.show_config()"
   ]
  },
  {
   "cell_type": "code",
   "execution_count": 7,
   "id": "6831bf11-3ed3-4ebb-a92f-ee398ecc944c",
   "metadata": {},
   "outputs": [
    {
     "name": "stdout",
     "output_type": "stream",
     "text": [
      "[0. 0. 0. 0. 0. 0. 0. 0. 0. 0.]\n"
     ]
    }
   ],
   "source": [
    "null_vector =np.zeros(10)\n",
    "print(null_vector)"
   ]
  },
  {
   "cell_type": "code",
   "execution_count": 11,
   "id": "c1c1fbee-3d8b-4663-8f77-740ac022c491",
   "metadata": {},
   "outputs": [
    {
     "name": "stdout",
     "output_type": "stream",
     "text": [
      "[0. 0. 0. 0. 1. 0. 0. 0. 0. 0.]\n"
     ]
    }
   ],
   "source": [
    "vector = np.zeros(10)\n",
    "vector[4]=1\n",
    "print(vector)"
   ]
  },
  {
   "cell_type": "code",
   "execution_count": 15,
   "id": "e73e9b20-0518-4ff0-9015-cace04491f5a",
   "metadata": {},
   "outputs": [
    {
     "name": "stdout",
     "output_type": "stream",
     "text": [
      "[9 8 7 6 5 4 3 2 1 0]\n"
     ]
    }
   ],
   "source": [
    "vector = np.arange(10)\n",
    "reversed_vector = vector[::-1]\n",
    "print(reversed_vector)"
   ]
  },
  {
   "cell_type": "code",
   "execution_count": 17,
   "id": "db66e677-c230-4c4c-9df2-6493f9a9ad3d",
   "metadata": {},
   "outputs": [
    {
     "name": "stdout",
     "output_type": "stream",
     "text": [
      "[[0 1 0 1 0 1 0 1]\n",
      " [1 0 1 0 1 0 1 0]\n",
      " [0 1 0 1 0 1 0 1]\n",
      " [1 0 1 0 1 0 1 0]\n",
      " [0 1 0 1 0 1 0 1]\n",
      " [1 0 1 0 1 0 1 0]\n",
      " [0 1 0 1 0 1 0 1]\n",
      " [1 0 1 0 1 0 1 0]]\n"
     ]
    }
   ],
   "source": [
    "n=8\n",
    "checkerboard= np.zeros((n,n), dtype=int)\n",
    "checkerboard[1::2, ::2]=1\n",
    "checkerboard[::2,1::2]=1\n",
    "print(checkerboard)"
   ]
  },
  {
   "cell_type": "code",
   "execution_count": 21,
   "id": "fd6d9532-03b5-4f25-b888-b05792cfaa74",
   "metadata": {},
   "outputs": [
    {
     "name": "stdout",
     "output_type": "stream",
     "text": [
      "[[3 7 0 4]\n",
      " [3 3 7 4]\n",
      " [3 2 6 2]\n",
      " [2 5 0 9]]\n",
      "[[3 7 0 4]\n",
      " [2 5 0 9]\n",
      " [3 2 6 2]\n",
      " [3 3 7 4]]\n"
     ]
    }
   ],
   "source": [
    "n=4\n",
    "m=2\n",
    "array= np.random.randint(0,10,(n,n))\n",
    "sorted_array = array[array[:,m].argsort()]\n",
    "print(array)\n",
    "print(sorted_array)"
   ]
  },
  {
   "cell_type": "code",
   "execution_count": 23,
   "id": "b643fb80-b6e4-4d5f-ad5b-01a2cda19e70",
   "metadata": {},
   "outputs": [
    {
     "name": "stdout",
     "output_type": "stream",
     "text": [
      "[[0 1 2 3]\n",
      " [1 2 3 4]\n",
      " [2 3 4 5]\n",
      " [3 4 5 6]]\n"
     ]
    }
   ],
   "source": [
    "n=4\n",
    "array= np.fromfunction(lambda i, j: i+j, (n,n), dtype=int)\n",
    "print(array)"
   ]
  },
  {
   "cell_type": "code",
   "execution_count": 25,
   "id": "6bda3aa9-6011-4d9c-86f8-288fce0f744f",
   "metadata": {},
   "outputs": [
    {
     "name": "stdout",
     "output_type": "stream",
     "text": [
      "(1, 5, 3)\n"
     ]
    }
   ],
   "source": [
    "index= np.unravel_index(99,(6,7,8))\n",
    "print(index)"
   ]
  },
  {
   "cell_type": "code",
   "execution_count": 27,
   "id": "6d095c91-54d1-4441-9059-b1dde244bce1",
   "metadata": {},
   "outputs": [
    {
     "name": "stdout",
     "output_type": "stream",
     "text": [
      "[[0.29732903 0.20124909]\n",
      " [0.66290783 0.33738206]\n",
      " [0.40270461 0.62875394]\n",
      " [0.5776548  0.33173662]\n",
      " [0.88101148 0.86943253]]\n"
     ]
    }
   ],
   "source": [
    "A = np.random.random((5,3))\n",
    "B= np.random.random((3,2))\n",
    "product=np.dot(A,B)\n",
    "print(product)"
   ]
  },
  {
   "cell_type": "code",
   "execution_count": 29,
   "id": "2bbd1a21-1626-4b6f-a51a-f7411ac7bd73",
   "metadata": {},
   "outputs": [
    {
     "name": "stdout",
     "output_type": "stream",
     "text": [
      "[0.73716588 0.78301361 0.62710078 0.22805208 0.         0.52045602\n",
      " 0.01869531 0.43201831 0.27393858 0.05506003]\n"
     ]
    }
   ],
   "source": [
    "vector= np.random.random(10)\n",
    "vector[vector.argmax()]=0\n",
    "print(vector)"
   ]
  },
  {
   "cell_type": "code",
   "execution_count": 32,
   "id": "69802347-5ca3-446a-a9db-a8965992e65c",
   "metadata": {},
   "outputs": [
    {
     "name": "stdout",
     "output_type": "stream",
     "text": [
      "[0.00366709 0.09439264 0.7890355  0.30955135 0.37023743 0.97324022\n",
      " 0.27898964 0.22368742 0.48371989 0.60827755]\n",
      "Closest value to 0.5: 0.4837198877210538\n"
     ]
    }
   ],
   "source": [
    "array=np.random.random(10)\n",
    "scalar=0.5\n",
    "closest_value = array[np.abs(array - scalar).argmin()]\n",
    "print(array)\n",
    "print(f\"Closest value to {scalar}: {closest_value}\")"
   ]
  },
  {
   "cell_type": "code",
   "execution_count": 38,
   "id": "a2609f83-15a0-449c-80f2-de6eef0cdfa9",
   "metadata": {},
   "outputs": [
    {
     "name": "stdout",
     "output_type": "stream",
     "text": [
      "[[0.50238172 0.47733853 0.17166114 0.37395071]\n",
      " [0.14013824 0.96897677 0.21519837 0.77537161]\n",
      " [0.27293713 0.03388306 0.29950815 0.13423603]\n",
      " [0.43275323 0.15888829 0.77766313 0.22720553]]\n",
      "[[ 0.1210487   0.09600551 -0.20967189 -0.00738232]\n",
      " [-0.38478301  0.44405552 -0.30972288  0.25045037]\n",
      " [ 0.08779604 -0.15125803  0.11436706 -0.05090506]\n",
      " [ 0.03362569 -0.24023925  0.37853558 -0.17192202]]\n"
     ]
    }
   ],
   "source": [
    "matrix= np.random.random((4,4))\n",
    "row_mean = matrix.mean(axis=1, keepdims=True)\n",
    "result = matrix - row_mean\n",
    "print(matrix)\n",
    "print(result)"
   ]
  },
  {
   "cell_type": "code",
   "execution_count": 42,
   "id": "b5007401-eae1-48ea-8c62-e5c7f21a295c",
   "metadata": {},
   "outputs": [
    {
     "name": "stdout",
     "output_type": "stream",
     "text": [
      "[1. 1. 1. 1. 1. 0. 0. 0. 0. 0.]\n"
     ]
    }
   ],
   "source": [
    "vector= np.zeros(10)\n",
    "indices = np.array([0,1,2,2,3,4,4])\n",
    "vector[np.unique(indices)] +=1\n",
    "print(vector)"
   ]
  },
  {
   "cell_type": "code",
   "execution_count": 48,
   "id": "fcc8cba2-9695-4fce-ae59-b18cee7748ac",
   "metadata": {},
   "outputs": [
    {
     "name": "stdout",
     "output_type": "stream",
     "text": [
      "[8 2 9 2 7 2 2 7 8 1 4 7 4 9 6 1 5 6 5 1]\n",
      "2\n"
     ]
    }
   ],
   "source": [
    "array = np.random.randint(0,10,20)\n",
    "most_frequent = np.bincount(array).argmax()\n",
    "print(array)\n",
    "print(most_frequent)"
   ]
  },
  {
   "cell_type": "code",
   "execution_count": 56,
   "id": "92386842-abdd-4b4e-8957-ca14023273ba",
   "metadata": {},
   "outputs": [
    {
     "name": "stdout",
     "output_type": "stream",
     "text": [
      "[[0.33495622 0.30649689 0.48598878 0.9522692  0.50997237 0.96415632\n",
      "  0.8564408  0.29504243 0.47745007 0.89642635]\n",
      " [0.84953254 0.99343156 0.63129135 0.84360009 0.80095385 0.43014378\n",
      "  0.02871189 0.73980196 0.10010722 0.91504808]\n",
      " [0.17282638 0.35785612 0.42507669 0.23401853 0.40190336 0.93929109\n",
      "  0.69299988 0.04052345 0.60429508 0.0085553 ]\n",
      " [0.67062685 0.65472536 0.93140997 0.13862484 0.11912925 0.09552874\n",
      "  0.52630227 0.9281824  0.4697357  0.11785227]\n",
      " [0.89908181 0.66426383 0.72739614 0.67813792 0.09553212 0.12719458\n",
      "  0.39219249 0.5330329  0.81301779 0.39301056]\n",
      " [0.88454682 0.19972971 0.50172089 0.42958795 0.75647261 0.92616947\n",
      "  0.31525746 0.95024926 0.90726825 0.5477193 ]\n",
      " [0.94598113 0.74629782 0.45624252 0.20824286 0.56570009 0.62794204\n",
      "  0.95721451 0.31912848 0.9296476  0.91459933]\n",
      " [0.14363386 0.34873731 0.61071699 0.7983465  0.82844721 0.27391037\n",
      "  0.05856906 0.53266619 0.94974531 0.69479836]\n",
      " [0.11390258 0.44552623 0.65918673 0.39368753 0.38815791 0.89777831\n",
      "  0.28462727 0.75703967 0.94632566 0.68862847]\n",
      " [0.82201242 0.85528383 0.86360915 0.80357445 0.58035346 0.22098908\n",
      "  0.81204094 0.2480687  0.68536771 0.09907976]]\n",
      "[[[0.33495622 0.30649689 0.48598878]\n",
      "  [0.84953254 0.99343156 0.63129135]\n",
      "  [0.17282638 0.35785612 0.42507669]]\n",
      "\n",
      " [[0.99343156 0.63129135 0.84360009]\n",
      "  [0.35785612 0.42507669 0.23401853]\n",
      "  [0.65472536 0.93140997 0.13862484]]\n",
      "\n",
      " [[0.42507669 0.23401853 0.40190336]\n",
      "  [0.93140997 0.13862484 0.11912925]\n",
      "  [0.72739614 0.67813792 0.09553212]]\n",
      "\n",
      " [[0.13862484 0.11912925 0.09552874]\n",
      "  [0.67813792 0.09553212 0.12719458]\n",
      "  [0.42958795 0.75647261 0.92616947]]\n",
      "\n",
      " [[0.09553212 0.12719458 0.39219249]\n",
      "  [0.75647261 0.92616947 0.31525746]\n",
      "  [0.56570009 0.62794204 0.95721451]]\n",
      "\n",
      " [[0.92616947 0.31525746 0.95024926]\n",
      "  [0.62794204 0.95721451 0.31912848]\n",
      "  [0.27391037 0.05856906 0.53266619]]\n",
      "\n",
      " [[0.95721451 0.31912848 0.9296476 ]\n",
      "  [0.05856906 0.53266619 0.94974531]\n",
      "  [0.28462727 0.75703967 0.94632566]]\n",
      "\n",
      " [[0.53266619 0.94974531 0.69479836]\n",
      "  [0.75703967 0.94632566 0.68862847]\n",
      "  [0.2480687  0.68536771 0.09907976]]]\n"
     ]
    }
   ],
   "source": [
    "matrix= np.random.random((10,10))\n",
    "i = np.arange(8)[:, None] + np.arange(3)\n",
    "j = np.arange(8)[:, None] + np.arange(3)\n",
    "blocks = matrix[i[:, :, None], j[:, None, :]]\n",
    "print(matrix)\n",
    "print(blocks)"
   ]
  },
  {
   "cell_type": "code",
   "execution_count": 60,
   "id": "d89fa3c3-91ed-4de4-883e-61217c0ed948",
   "metadata": {},
   "outputs": [
    {
     "name": "stdout",
     "output_type": "stream",
     "text": [
      "Rank is 4, Trace is 2.077344216036452, Determinant is -0.011919355519899186\n"
     ]
    }
   ],
   "source": [
    "matrix = np.random.random((4,4))\n",
    "rank = np.linalg.matrix_rank(matrix)\n",
    "trace = np.trace(matrix)\n",
    "determinant = np.linalg.det(matrix)\n",
    "print(f\"Rank is {rank}, Trace is {trace}, Determinant is {determinant}\")"
   ]
  },
  {
   "cell_type": "code",
   "execution_count": null,
   "id": "c84f21c6-a899-4e62-a8a3-40a402c3ff12",
   "metadata": {},
   "outputs": [],
   "source": []
  }
 ],
 "metadata": {
  "kernelspec": {
   "display_name": "Python 3 (ipykernel)",
   "language": "python",
   "name": "python3"
  },
  "language_info": {
   "codemirror_mode": {
    "name": "ipython",
    "version": 3
   },
   "file_extension": ".py",
   "mimetype": "text/x-python",
   "name": "python",
   "nbconvert_exporter": "python",
   "pygments_lexer": "ipython3",
   "version": "3.12.4"
  }
 },
 "nbformat": 4,
 "nbformat_minor": 5
}
