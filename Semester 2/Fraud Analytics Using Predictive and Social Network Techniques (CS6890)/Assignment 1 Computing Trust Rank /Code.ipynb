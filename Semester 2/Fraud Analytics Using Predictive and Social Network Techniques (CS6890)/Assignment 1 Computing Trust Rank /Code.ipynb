{
  "cells": [
    {
      "cell_type": "markdown",
      "metadata": {
        "id": "JOIwqBnW0P3q"
      },
      "source": [
        "# Subject : Fraud Analytics Using Predictive and Social Network Techniques\n",
        "# Course code : CS6890\n",
        "\n",
        "## Assignment Number 1: Computing Trust Rank\n",
        "\n",
        "### Group Members  \n",
        "- **CS24MTECH14003** Anurag Sarva  \n",
        "- **CS24MTECH14006** Gulshan Hatzade  \n",
        "- **CS24MTECH14018** Mainak Adhikari  "
      ]
    },
    {
      "cell_type": "markdown",
      "metadata": {
        "id": "v1j-_oKn0P3s"
      },
      "source": [
        "# Importing all the necessary libraries for this assignment."
      ]
    },
    {
      "cell_type": "code",
      "execution_count": 15,
      "metadata": {
        "id": "PexreAyc0P3s"
      },
      "outputs": [],
      "source": [
        "\n",
        "# Import necessary libraries\n",
        "import os\n",
        "import pandas as pd  # For handling Excel files and data processing\n",
        "import numpy as np  # For numerical operations\n",
        "from collections import defaultdict  # For creating dictionaries with default values\n",
        "import collections  # Additional data structures like OrderedDict\n",
        "import threading  # For parallel processing of nodes\n",
        "import time  # For measuring execution time\n"
      ]
    },
    {
      "cell_type": "code",
      "source": [
        "# Printing the payment dataset\n",
        "df = pd.read_excel('Payments.xlsx')\n",
        "print(df)"
      ],
      "metadata": {
        "colab": {
          "base_uri": "https://localhost:8080/"
        },
        "id": "FtNpARB9-fDe",
        "outputId": "574b9893-8cad-438d-ddf7-5956a636f9b3"
      },
      "execution_count": 16,
      "outputs": [
        {
          "output_type": "stream",
          "name": "stdout",
          "text": [
            "        Sender  Receiver  Amount\n",
            "0         1309      1011  123051\n",
            "1         1309      1011  118406\n",
            "2         1309      1011  112456\n",
            "3         1309      1011  120593\n",
            "4         1309      1011  166396\n",
            "...        ...       ...     ...\n",
            "130530    1344      1390   21739\n",
            "130531    1914      1390    3374\n",
            "130532    1914      1390    5186\n",
            "130533    1914      1390    1559\n",
            "130534    1914      1390    1997\n",
            "\n",
            "[130535 rows x 3 columns]\n"
          ]
        }
      ]
    },
    {
      "cell_type": "code",
      "source": [
        "# Printing the bad_sender dataset\n",
        "df = pd.read_excel('bad_sender.xlsx')\n",
        "print(df)"
      ],
      "metadata": {
        "colab": {
          "base_uri": "https://localhost:8080/"
        },
        "id": "SytS_J13ASd7",
        "outputId": "3b852108-e81a-436d-db0a-67877956b1b1"
      },
      "execution_count": 17,
      "outputs": [
        {
          "output_type": "stream",
          "name": "stdout",
          "text": [
            "    Bad Sender\n",
            "0         1303\n",
            "1         1259\n",
            "2         1562\n",
            "3         1147\n",
            "4         1393\n",
            "5         1031\n",
            "6         1210\n",
            "7         1042\n",
            "8         1048\n",
            "9         1256\n",
            "10        1668\n",
            "11        1161\n",
            "12        1007\n",
            "13        1034\n",
            "14        1836\n",
            "15        1099\n",
            "16        1489\n",
            "17        1821\n",
            "18        1076\n",
            "19        1944\n"
          ]
        }
      ]
    },
    {
      "cell_type": "markdown",
      "metadata": {
        "id": "RMoEUqv40P3t"
      },
      "source": [
        "## Network Node Class\n",
        "\n",
        "This class represents a node in the trust network. It stores the node's ID, trust score, and connections, while also keeping track of message exchanges and computation status.\n"
      ]
    },
    {
      "cell_type": "code",
      "execution_count": 18,
      "metadata": {
        "id": "ZG9FP1l50P3t"
      },
      "outputs": [],
      "source": [
        "# Represents a node in the trust network with trust score and connections.\n",
        "class NetworkNode():\n",
        "    # It initializes the network node\n",
        "    #:param node_id: Unique identifier for the node\n",
        "    #:param trust_score: Initial trust score assigned to the node\n",
        "    #:param connected_nodes: List of connected nodes (neighbors)\n",
        "    def __init__(self, node_id, trust_score, connected_nodes):\n",
        "\n",
        "        self.node_id = node_id  # Stores the node's ID\n",
        "        self.trust_score = trust_score  # Stores the current trust score of the node\n",
        "        self.connected_nodes = connected_nodes  # List of connected nodes (edges)\n",
        "\n",
        "        self.incoming_msgs = []  # Stores incoming messages (trust updates)\n",
        "        self.outgoing_msgs = []  # Stores outgoing messages (trust propagation)\n",
        "\n",
        "        self.is_computing = True  # Flag to track if the node is still computing\n",
        "        self.current_step = 0  # Tracks the number of computation steps\n"
      ]
    },
    {
      "cell_type": "code",
      "source": [],
      "metadata": {
        "id": "vF3bU0TtahjL"
      },
      "execution_count": 18,
      "outputs": []
    },
    {
      "cell_type": "markdown",
      "metadata": {
        "id": "yeMKFsyg0P3t"
      },
      "source": [
        "## Explanation of Pregel Logic using its framework-\n",
        "\n",
        "The `Pregel` class is responsible for managing the distributed execution of the trust ranking algorithm. It follows a multi-threaded approach to process nodes efficiently.  \n",
        "\n",
        "1. **Initialization**: The class takes a list of nodes and a specified number of worker threads to handle computations in parallel.  \n",
        "2. **Execution Loop**: The `execute()` method continuously runs computation steps and message routing until all nodes have completed their processing.  \n",
        "3. **Node Distribution**: The `distribute_nodes()` method ensures that nodes are evenly assigned to workers using a round-robin approach. This prevents workload imbalance and ensures efficiency.  \n",
        "4. **Processing Steps**: Each step of the computation is executed by multiple worker threads, created in `process_step()`. These threads process assigned nodes concurrently, improving performance.  \n",
        "5. **Message Routing**: The `route_messages()` method is responsible for transferring trust scores between nodes. It resets incoming messages and updates the trust score propagation.  \n",
        "6. **Checking Active Nodes**: The `has_active_nodes()` method checks whether any node is still computing. If all nodes have completed processing, the execution stops.  \n",
        "\n",
        "This class effectively distributes computational tasks across multiple workers, making the system scalable and efficient for large datasets.\n"
      ]
    },
    {
      "cell_type": "code",
      "execution_count": 19,
      "metadata": {
        "id": "AQ7uCLhuFQx4"
      },
      "outputs": [],
      "source": [
        "# using pregel framework logic\n",
        "class Pregel():\n",
        "    # Manages distributed computation across multiple worker nodes.\n",
        "    # Initializes the distributed computation engine.\n",
        "    # param network_nodes: List of nodes participating in computation\n",
        "    # param worker_count: Number of worker threads\n",
        "    def __init__(self, network_nodes, worker_count):\n",
        "\n",
        "        self.network_nodes = network_nodes  # List of all network nodes\n",
        "        self.worker_count = worker_count  # Total number of workers\n",
        "\n",
        "    def execute(self):\n",
        "        # Running the distributed computation until all nodes are inactive.\n",
        "        self.node_distribution = self.distribute_nodes()  # Distribute nodes among workers\n",
        "        while self.has_active_nodes():  # Continue computation until no active nodes remain\n",
        "            self.process_step()  # Execute computation step\n",
        "            self.route_messages()  # Exchange messages between nodes\n",
        "\n",
        "    # Assigning nodes to workers in a round-robin manner.\n",
        "    # Ensuring even distribution of workload.\n",
        "    def distribute_nodes(self):\n",
        "        distribution = collections.defaultdict(list)  # Dictionary to store worker assignments\n",
        "        worker_id = 0  # Tracks current worker\n",
        "        total_nodes = len(self.network_nodes)  # Total number of nodes\n",
        "        node_index = 0  # Tracks current node index\n",
        "\n",
        "        while node_index < total_nodes:\n",
        "            distribution[worker_id].append(self.network_nodes[node_index])  # Assign node to worker\n",
        "\n",
        "            worker_id += 1  # Move to next worker\n",
        "            if worker_id == self.worker_count:  # If last worker reached, reset to first\n",
        "                worker_id = 0\n",
        "\n",
        "            node_index += 1  # Move to the next node\n",
        "\n",
        "        return distribution\n",
        "\n",
        "    # Executes a computation step for all nodes using multi-threading.\n",
        "    def process_step(self):\n",
        "        active_workers = []  # Stores active worker threads\n",
        "        node_iter = iter(self.node_distribution.values())  # Iterator over distributed nodes\n",
        "\n",
        "        while True:\n",
        "            try:\n",
        "                nodes = next(node_iter)  # Get next set of nodes\n",
        "                computation_worker = ComputationWorker(nodes)  # Create worker thread\n",
        "                computation_worker.start()  # Start worker computation\n",
        "                active_workers += [computation_worker]  # Append to list (avoiding append function)\n",
        "            except StopIteration:  # Stop when all nodes are processed\n",
        "                break\n",
        "\n",
        "        worker_iter = iter(active_workers)\n",
        "        while True:\n",
        "            try:\n",
        "                worker = next(worker_iter)  # Get next worker\n",
        "                worker.join()  # Wait for worker to complete\n",
        "            except StopIteration:  # Stop when all workers are finished\n",
        "                break\n",
        "    # Handles message routing between nodes to update trust scores.\n",
        "    def route_messages(self):\n",
        "        node_list = self.network_nodes  # List of all nodes\n",
        "        index = 0\n",
        "\n",
        "        count = sum(1 for _ in node_list)  # Compute total nodes\n",
        "        while index < count:\n",
        "            node_list[index].current_step += 1  # Increment step count\n",
        "            node_list[index].incoming_msgs = []  # Reset incoming messages\n",
        "            index += 1\n",
        "\n",
        "        index = 0\n",
        "        while index < count:\n",
        "            msg_index = 0\n",
        "            msg_count = sum(1 for _ in node_list[index].outgoing_msgs)  # Count outgoing messages\n",
        "            while msg_index < msg_count:\n",
        "                target_node, msg_content = node_list[index].outgoing_msgs[msg_index]\n",
        "                target_node.incoming_msgs += [(node_list[index], msg_content)]  # Append message\n",
        "                msg_index += 1\n",
        "            index += 1\n",
        "    # Checking if there are still active nodes computing.\n",
        "    def has_active_nodes(self):\n",
        "        node_list = self.network_nodes\n",
        "        index = 0\n",
        "        active_found = False\n",
        "\n",
        "        count = sum(1 for _ in node_list)  # Count total nodes\n",
        "        while index < count:\n",
        "            if node_list[index].is_computing:  # Check if any node is still computing\n",
        "                active_found = True\n",
        "                break\n",
        "            index += 1\n",
        "\n",
        "        return active_found  # Return True if active nodes are found\n"
      ]
    },
    {
      "cell_type": "markdown",
      "metadata": {
        "id": "Jt6avfxt0P3u"
      },
      "source": [
        "## Computation Worker Class - ComputationWorker class used in pregal\n",
        "\n",
        "The `ComputationWorker` class represents a worker thread responsible for processing trust scores of assigned nodes in parallel.  \n",
        "\n",
        "1. **Initialization**: Each worker receives a list of nodes that it will process.  \n",
        "2. **Execution**: The `run()` method triggers the computation step for all assigned nodes.  \n",
        "3. **Processing Nodes**: The `compute_step()` method iterates over the assigned nodes and updates their trust scores if they are still computing.  \n",
        "4. **Parallel Processing**: Since each worker runs in a separate thread, multiple nodes are processed concurrently, improving efficiency.  \n",
        "\n",
        "This class plays a key role in distributing the computational workload across multiple threads, ensuring faster execution.\n"
      ]
    },
    {
      "cell_type": "code",
      "execution_count": 20,
      "metadata": {
        "id": "bAYsa6Zm0P3u"
      },
      "outputs": [],
      "source": [
        "# Import threading for parallel execution\n",
        "import threading\n",
        "\n",
        "# Thread-based worker for processing computation on assigned nodes.\n",
        "class ComputationWorker(threading.Thread):\n",
        "\n",
        "    # Initializing a worker thread.\n",
        "    #  param assigned_nodes: List of nodes assigned to this worker for processing\n",
        "    def __init__(self, assigned_nodes):\n",
        "        super().__init__()  # Initialize the thread\n",
        "        self.assigned_nodes = assigned_nodes  # Store assigned nodes\n",
        "\n",
        "    # Running the worker thread, triggering the computation step.\n",
        "    def run(self):\n",
        "        self.compute_step()  # Call the method to process nodes\n",
        "    # Iterating through assigned nodes and updates their trust scores.\n",
        "    def compute_step(self):\n",
        "\n",
        "        index = 0\n",
        "        total_nodes = sum(1 for _ in self.assigned_nodes)  # Count total nodes (avoiding len function)\n",
        "\n",
        "        while index < total_nodes:\n",
        "            node = self.assigned_nodes[index]  # Get current node\n",
        "            if node.is_computing:  # Check if node is still computing\n",
        "                node.update()  # Update the node's trust score\n",
        "            index += 1  # Move to the next node\n"
      ]
    },
    {
      "cell_type": "markdown",
      "metadata": {
        "id": "tGBFGro50P3u"
      },
      "source": [
        "## Trust Score Initialization\n",
        "\n",
        "This function initializes trust scores for all nodes, ensuring that known malicious nodes receive specific scores.\n",
        "\n",
        "1. **Setting Default Scores**: It initializes all nodes with a trust score of `0`.\n",
        "2. **Handling Malicious Nodes**: If malicious nodes exist, their scores are equally divided among them.\n",
        "3. **Avoiding len()**: Instead of using `len()`, it calculates the count using iteration.\n",
        "4. **Switch-Case Logic**: Uses `match case` (Python 3.10+) to assign trust scores dynamically.\n",
        "5. **Ensuring Robustness**: If no malicious nodes exist, the function avoids division errors by setting the score to `0`.\n",
        "\n",
        "This function ensures that malicious nodes are properly identified while keeping the initialization process efficient.\n"
      ]
    },
    {
      "cell_type": "code",
      "execution_count": 21,
      "metadata": {
        "id": "bQ3rllqr0P3u"
      },
      "outputs": [],
      "source": [
        "# Initializing trust scores for all nodes, assigning scores to malicious nodes\n",
        "# param all_nodes: List of all nodes in the network\n",
        "# param malicious_nodes: List of known malicious nodes\n",
        "# return: List of initial trust scores for all nodes\n",
        "def initialize_trust_scores(all_nodes, malicious_nodes):\n",
        "\n",
        "    node_count = sum(1 for _ in all_nodes)  # Get total number of nodes (avoiding len function)\n",
        "    malicious_count = sum(1 for _ in malicious_nodes)  # Get total malicious nodes count\n",
        "\n",
        "    initial_scores = [0] * node_count  # Initialize all trust scores to zero\n",
        "\n",
        "    # If there are malicious nodes, distribute the trust score among them\n",
        "    score_per_node = 1.0 / malicious_count if malicious_count > 0 else 0\n",
        "    index = 0\n",
        "\n",
        "    while index < malicious_count:\n",
        "        node_idx = malicious_nodes[index]  # Get malicious node index\n",
        "\n",
        "        match node_idx:\n",
        "            case _:  # Assign computed trust score to malicious node\n",
        "                initial_scores[node_idx] = score_per_node\n",
        "\n",
        "        index += 1  # Move to next malicious node\n",
        "\n",
        "    return initial_scores  # Return the initialized trust scores\n"
      ]
    },
    {
      "cell_type": "markdown",
      "metadata": {
        "id": "IEulb_UG0P3v"
      },
      "source": [
        "## Processing Network Data\n",
        "\n",
        "This function constructs a network graph from transaction data by mapping senders and receivers, establishing weighted edges, and handling malicious nodes.\n",
        "\n",
        "1. **Transaction Parsing**: It extracts sender IDs, receiver IDs, and transaction amounts, ensuring all transactions have valid data.\n",
        "2. **Node Mapping**: Each transaction is mapped to its corresponding index in the network.\n",
        "3. **Edge Construction**: The function builds a connection graph, ensuring that each sender has a record of receivers.\n",
        "4. **Weight Assignment**: Transaction amounts are stored as edge weights to indicate trust levels.\n",
        "5. **Handling Malicious Nodes**: If a node has no connections, it is linked to known malicious nodes with a minimal weight.\n",
        "6. **Scalability**: The function avoids `len()` calls, ensuring efficient iteration through large datasets.\n",
        "\n",
        "This function ensures that transactions are properly converted into a structured network for further computation.\n"
      ]
    },
    {
      "cell_type": "code",
      "execution_count": 22,
      "metadata": {
        "id": "8uqTgHT40P3v"
      },
      "outputs": [],
      "source": [
        "# Processing transaction data to build a network graph with weighted connections.\n",
        "# param transaction_data: List or DataFrame of transactions (sender, receiver, amount)\n",
        "# param node_mapping: Dictionary mapping node IDs to indices\n",
        "# param network_nodes: List of all nodes in the network\n",
        "# param malicious_nodes: List of malicious node indices\n",
        "# return: Tuple containing edge connections, mapped connections, edge weights, and network nodes\n",
        "def process_network_data(transaction_data, node_mapping, network_nodes, malicious_nodes):\n",
        "\n",
        "    edge_connections = defaultdict(list)  # Stores direct sender-receiver connections\n",
        "    mapped_connections = defaultdict(list)  # Stores mapped node connections using indices\n",
        "    edge_weights = {}  # Stores transaction amounts as edge weights\n",
        "\n",
        "    # Convert DataFrame to list if necessary\n",
        "    if isinstance(transaction_data, pd.DataFrame):\n",
        "        transaction_data = transaction_data.values.tolist()\n",
        "\n",
        "    idx = 0\n",
        "    transaction_count = sum(1 for _ in transaction_data)  # Count total transactions (avoiding len function)\n",
        "\n",
        "    while idx < transaction_count:\n",
        "        transaction = transaction_data[idx]\n",
        "\n",
        "        # Ensure transaction has at least 3 values (sender, receiver, amount)\n",
        "        if len(transaction) < 3:\n",
        "            idx += 1\n",
        "            continue  # Skip invalid rows\n",
        "\n",
        "        sender = int(transaction[0])  # Extract sender ID\n",
        "        receiver = int(transaction[1])  # Extract receiver ID\n",
        "        transaction_amount = int(transaction[2])  # Extract transaction amount\n",
        "\n",
        "        sender_idx = node_mapping.get(sender, None)  # Map sender to index\n",
        "        receiver_idx = node_mapping.get(receiver, None)  # Map receiver to index\n",
        "\n",
        "        # If both sender and receiver exist in the mapping\n",
        "        if sender_idx is not None and receiver_idx is not None:\n",
        "            # If receiver is not already in sender’s connections, add it\n",
        "            if receiver not in edge_connections.get(sender, []):\n",
        "                edge_connections[sender] = edge_connections.get(sender, []) + [receiver]\n",
        "                mapped_connections[sender_idx] = mapped_connections.get(sender_idx, []) + [receiver_idx]\n",
        "\n",
        "            # Initialize sender’s edge weight dictionary if not already present\n",
        "            if sender_idx not in edge_weights:\n",
        "                edge_weights[sender_idx] = {}\n",
        "\n",
        "            # Update edge weight by adding transaction amount\n",
        "            edge_weights[sender_idx][receiver_idx] = edge_weights.get(sender_idx, {}).get(receiver_idx, 0) + transaction_amount\n",
        "\n",
        "        idx += 1  # Move to the next transaction\n",
        "\n",
        "    # Ensure all nodes have connections, including malicious nodes\n",
        "    node_iter = iter(network_nodes)\n",
        "    while True:\n",
        "        try:\n",
        "            node = next(node_iter)\n",
        "            if node not in mapped_connections:  # If node has no connections\n",
        "                mapped_connections[node] = mapped_connections.get(node, []) + malicious_nodes\n",
        "                edge_weights[node] = {bad_node: 1 for bad_node in malicious_nodes}  # Assign small edge weight\n",
        "        except StopIteration:\n",
        "            break  # Stop when all nodes are processed\n",
        "\n",
        "    return edge_connections, mapped_connections, edge_weights, network_nodes  # Return computed network data\n"
      ]
    },
    {
      "cell_type": "markdown",
      "metadata": {
        "id": "B0ZGq4FD0P3v"
      },
      "source": [
        "## Distrust Rank Node\n",
        "\n",
        "This class extends `NetworkNode` and implements the DistrustRank algorithm, which calculates trust scores while considering fraudulent activity.\n",
        "\n",
        "1. **Initialization**: Each node has an ID, initial trust score, connected nodes, edge weights, a damping factor, and a limit on iterations.\n",
        "2. **Incoming Message Processing**: The node collects incoming trust scores from connected nodes.\n",
        "3. **Trust Score Calculation**: It updates the trust score using a damping factor to balance initial trust and propagated trust.\n",
        "4. **Trust Distribution**: The updated trust score is distributed to connected nodes based on edge weights.\n",
        "5. **Iteration Control**: The update process continues for a fixed number of steps, ensuring convergence.\n",
        "6. **Trust History Logging**: Each trust score update is recorded for analysis.\n",
        "\n",
        "This implementation ensures that trust rankings are computed iteratively while controlling trust propagation with the damping factor.\n"
      ]
    },
    {
      "cell_type": "code",
      "execution_count": 23,
      "metadata": {
        "id": "6iwxSET_0P3v"
      },
      "outputs": [],
      "source": [
        "# Representing a node in the TrustRank system, modified to handle distrust ranking.\n",
        "class DistrustRankNode(NetworkNode):\n",
        "    # Initializing the DistrustRank node.\n",
        "    # param node_id: Unique identifier for the node\n",
        "    # param trust_score: Initial trust score assigned to the node\n",
        "    # param connected_nodes: List of connected nodes\n",
        "    # param edge_weights: Weight of edges to connected nodes\n",
        "    # param damping_factor: Factor controlling the influence of incoming trust (default: 0.85)\n",
        "    # param max_iterations: Maximum number of iterations for computation (default: 50)\n",
        "    def __init__(self, node_id, trust_score, connected_nodes, edge_weights, damping_factor=0.85, max_iterations=100):\n",
        "\n",
        "        super().__init__(node_id, trust_score, connected_nodes)  # Call parent class constructor\n",
        "        self.damping_factor = damping_factor  # Controls how much trust is propagated\n",
        "        self.max_iterations = max_iterations  # Limits the number of trust updates\n",
        "        self.edge_weights = edge_weights  # Stores weight of connections to other nodes\n",
        "        self.trust_history = []  # Tracks changes in trust score over iterations\n",
        "        self.initial_score = trust_score  # Stores the original trust score for reference\n",
        "\n",
        "    # Updating the trust score of the node using the DistrustRank algorithm\n",
        "    def update(self):\n",
        "        while self.current_step != self.max_iterations:  # Continue updating until max iterations\n",
        "            incoming_score = 0  # Initialize incoming trust sum\n",
        "\n",
        "            # Aggregate incoming trust scores\n",
        "            for _, msg in self.incoming_msgs:\n",
        "                incoming_score += msg\n",
        "\n",
        "            # Update trust score based on damping factor and incoming scores\n",
        "            self.trust_score = (self.damping_factor * incoming_score +\n",
        "                                (1 - self.damping_factor) * self.initial_score)\n",
        "\n",
        "            outgoing_scores = []  # Store computed scores for outgoing messages\n",
        "            index = 0\n",
        "\n",
        "            # Calculate outgoing scores based on edge weights\n",
        "            while index < len(self.edge_weights):\n",
        "                outgoing_scores.append(self.trust_score * self.edge_weights[index])\n",
        "                index += 1\n",
        "\n",
        "            self.outgoing_msgs = []  # Reset outgoing messages\n",
        "            index = 0\n",
        "\n",
        "            # Send updated scores to connected nodes\n",
        "            while index < len(self.connected_nodes):\n",
        "                self.outgoing_msgs.append((self.connected_nodes[index], outgoing_scores[index]))\n",
        "                index += 1\n",
        "\n",
        "            self.trust_history.append(self.trust_score)  # Store trust score history\n",
        "            return  # Stop updating after one iteration\n",
        "\n",
        "        self.is_computing = False  # Mark node as finished computing\n"
      ]
    },
    {
      "cell_type": "markdown",
      "metadata": {
        "id": "TPlHr1oy0P3v"
      },
      "source": [
        "## Computing DistrustRank\n",
        "\n",
        "This function calculates trust rankings for nodes using a distributed computation model.\n",
        "\n",
        "1. **Initialization**: A `Pregel` engine is created with 4 worker threads.\n",
        "2. **Execution**: The computation engine runs, iteratively updating trust scores.\n",
        "3. **Trust Score Collection**: After execution, final trust scores are collected from each node.\n",
        "4. **Matrix Conversion**: The collected scores are stored in a matrix format for further processing.\n",
        "5. **Return Values**: The function returns the final computed scores and the computation engine instance.\n",
        "\n",
        "This approach ensures efficient parallel computation of trust scores across multiple nodes.\n"
      ]
    },
    {
      "cell_type": "code",
      "execution_count": 24,
      "metadata": {
        "id": "GwhMa_WF0P3v"
      },
      "outputs": [],
      "source": [
        "# computing DistrustRank using a distributed computation approach\n",
        "# param network_nodes: List of nodes in the trust network\n",
        "# return: A matrix of final trust scores and the computation engine instance\n",
        "def compute_distrust_rank(network_nodes):\n",
        "\n",
        "    # Initialize the distributed computation engine with 4 worker threads\n",
        "    computation_engine = Pregel(network_nodes, worker_count=4)\n",
        "\n",
        "    # Start the distributed computation process\n",
        "    computation_engine.execute()\n",
        "\n",
        "    # Collect the final trust scores from each node\n",
        "    trust_scores = []\n",
        "    index = 0\n",
        "    while index < len(network_nodes):  # Avoiding list comprehensions for clarity\n",
        "        trust_scores.append(network_nodes[index].trust_score)\n",
        "        index += 1  # Move to the next node\n",
        "\n",
        "    # Convert trust scores into a column matrix and return with the computation engine\n",
        "    return np.mat(trust_scores).transpose(), computation_engine\n"
      ]
    },
    {
      "cell_type": "markdown",
      "metadata": {
        "id": "_4oJ2sVg0P3v"
      },
      "source": [
        "## Main Execution - Trust Rank Computation\n",
        "\n",
        "This section of the code loads transaction data, constructs the network graph, initializes nodes, and computes trust rankings.\n",
        "\n",
        "1. **Data Loading**: Reads payment transactions and malicious sender lists from Excel files.\n",
        "2. **Node Mapping**: Creates a mapping of unique sender and receiver nodes to unique indices.\n",
        "3. **Network Graph Construction**: Builds the transaction network, assigning weights to edges based on transaction amounts.\n",
        "4. **Trust Score Initialization**: Assigns initial trust scores, giving special handling to known fraudulent nodes.\n",
        "5. **Node Setup**: Creates computation nodes and links them according to mapped transactions.\n",
        "6. **Weight Normalization**: Ensures transaction weights are proportionally assigned for trust propagation.\n",
        "7. **Trust Computation**: Runs a distributed algorithm to compute trust rankings across all nodes.\n",
        "8. **Result Storage**: Saves the computed trust scores to a file for further analysis.\n",
        "\n",
        "This structured approach ensures efficient processing of transaction data while identifying potentially fraudulent behavior.\n"
      ]
    },
    {
      "cell_type": "code",
      "execution_count": 11,
      "metadata": {
        "colab": {
          "base_uri": "https://localhost:8080/"
        },
        "id": "24LMSQql0P3v",
        "outputId": "ce7429b3-7f7d-49ee-f68f-24367c114a33"
      },
      "outputs": [
        {
          "output_type": "stream",
          "name": "stdout",
          "text": [
            "Pregel TrustRank result : \n",
            " {0: 0.0, 1: 0.0, 2: 0.0, 3: 0.0, 4: 0.0, 5: 0.0, 6: 0.0, 7: 0.0, 8: 0.0, 9: 0.0, 10: 0.0, 11: 0.0, 12: 0.0, 13: 0.0, 14: 0.0, 15: 0.0, 16: 0.0, 17: 0.0, 18: 0.0, 19: 0.0, 20: 0.0, 21: 0.0, 22: 0.0, 23: 0.0, 24: 0.0, 25: 0.0, 26: 0.0, 27: 0.0, 28: 0.0, 29: 0.0, 30: 0.0, 31: 0.0, 32: 0.0, 33: 0.0, 34: 0.0, 35: 0.0, 36: 0.0, 37: 0.0, 38: 0.0, 39: 0.0, 40: 0.0, 41: 0.0, 42: 0.0, 43: 0.0, 44: 0.0, 45: 0.0, 46: 0.0, 47: 0.0, 48: 0.0, 49: 0.0, 50: 0.0, 51: 0.0, 52: 0.0, 53: 0.0, 54: 0.0, 55: 0.0, 56: 0.0, 57: 0.0, 58: 0.002092545823346117, 59: 0.00016550381939594766, 60: 0.000366090651100435, 61: 0.0038996369281061043, 62: 0.009097330806715667, 63: 0.0008871402878598143, 64: 0.039912113200067253, 65: 0.002181431479652059, 66: 0.0, 67: 0.0004671464752279273, 68: 0.012446924003297659, 69: 0.0, 70: 0.011983031675886026, 71: 0.0031039284044368956, 72: 0.0, 73: 0.007579215786432508, 74: 0.0, 75: 0.0, 76: 3.85888687256371e-05, 77: 0.0014518003772599384, 78: 0.007222620200141742, 79: 0.0, 80: 0.0010156560300282626, 81: 6.8641025543507375e-06, 82: 0.002562893805983671, 83: 0.000329722883296569, 84: 0.003926455380896223, 85: 0.0006603026150367421, 86: 6.429676276486933e-05, 87: 0.0005987119138662559, 88: 0.010491690503547261, 89: 4.1457103910651394e-06, 90: 0.002328572766620032, 91: 0.017966864098441664, 92: 0.002108329579356537, 93: 0.0018463178215538457, 94: 0.007150519523552459, 95: 0.00908664996092026, 96: 0.008712047347291299, 97: 0.0006048824741452151, 98: 0.010596673849240077, 99: 0.02349660099701227, 100: 0.0032047949335593045, 101: 0.0, 102: 0.0, 103: 0.0, 104: 0.0, 105: 0.015110790252961408, 106: 0.006416321850451527, 107: 0.009423722770853887, 108: 0.0, 109: 0.00015253780339915214, 110: 5.156467057511722e-05, 111: 0.0012602639787819146, 112: 4.166167834102456e-06, 113: 0.0006119279342244307, 114: 0.0015971022366318053, 115: 3.7318491147756743e-06, 116: 6.728752399644477e-05, 117: 0.0013942254412853377, 118: 3.1364027149517254e-06, 119: 9.362954274148563e-05, 120: 0.0, 121: 0.00045734473152755304, 122: 0.004230634212619957, 123: 0.0, 124: 0.004954624336751325, 125: 0.004741722494445528, 126: 0.0, 127: 0.00014327599689007147, 128: 0.0010550039691090446, 129: 0.0018603460705574361, 130: 0.00036413338257262987, 131: 0.006182601699191687, 132: 0.003411776598627414, 133: 0.01678009742906859, 134: 0.0015000776964702166, 135: 0.0, 136: 0.005633024470473182, 137: 0.0002487039514683411, 138: 0.0, 139: 0.0, 140: 0.0006163626277821088, 141: 0.011172930944021034, 142: 0.0003374889807393651, 143: 0.023092967138493993, 144: 0.0012628801812403112, 145: 0.034856813919115916, 146: 0.0035711551780413862, 147: 0.0, 148: 0.0, 149: 0.00014429330887144682, 150: 0.0026053237559376893, 151: 0.012482358882967727, 152: 9.532069432558703e-05, 153: 6.707239077263639e-07, 154: 0.003183538988341069, 155: 0.01482051721830965, 156: 0.004143781360853853, 157: 0.002666732609263162, 158: 0.0, 159: 0.007478809669551868, 160: 0.004004106044396922, 161: 0.004554707526418485, 162: 0.0, 163: 0.0005019307692486824, 164: 0.006422711793542613, 165: 0.0004924142324686158, 166: 0.0007127288967322133, 167: 1.4223880295210545e-05, 168: 0.0030684036719507545, 169: 1.5643957717316774e-05, 170: 0.007203309853220262, 171: 0.0, 172: 6.7763506214784275e-06, 173: 0.0014974854277549825, 174: 1.0296628093119264e-06, 175: 0.0001395617214006886, 176: 5.0290653152982906e-05, 177: 0.010942409733734943, 178: 0.0016076112436209332, 179: 1.0981000119804752e-06, 180: 0.00020957079105282984, 181: 0.00045907403339122345, 182: 0.00028264945179777085, 183: 0.0008243844676084141, 184: 0.0024814433108347102, 185: 0.001199125747961562, 186: 0.00040923783060417893, 187: 0.0, 188: 0.0039974012842110326, 189: 0.0, 190: 0.0, 191: 0.002445719554431427, 192: 0.0006276849862057058, 193: 0.009457883287900004, 194: 0.005143122983005915, 195: 0.00026688499767531823, 196: 0.00043392473826736, 197: 0.0, 198: 0.0029386157992456305, 199: 0.034267590767613064, 200: 0.0, 201: 0.0, 202: 0.01420577812948689, 203: 0.0, 204: 0.0031919070416938566, 205: 0.0, 206: 0.0, 207: 0.00010681515947202344, 208: 0.0, 209: 0.0036023286539669627, 210: 0.00018994436484857195, 211: 0.00012388688464428445, 212: 0.0010991578765826707, 213: 0.00018471416201192665, 214: 0.0, 215: 0.010816088232810335, 216: 0.0, 217: 0.0015486213048346601, 218: 0.0, 219: 0.0, 220: 0.0019301734508718738, 221: 0.0, 222: 0.0008324232730446, 223: 0.00038402979119440484, 224: 0.0023753053898658174, 225: 0.012466677030545735, 226: 0.0021069789899515216, 227: 0.0, 228: 0.0, 229: 4.083212868607119e-05, 230: 3.935631187202468e-05, 231: 0.0001567793637179849, 232: 0.004164453409751134, 233: 0.0007663520874297276, 234: 0.0, 235: 0.0007924334590171766, 236: 0.0, 237: 0.0, 238: 0.0007082433829250285, 239: 2.8736134568180347e-05, 240: 0.0010422432916732116, 241: 1.9256977087820026e-05, 242: 0.0, 243: 0.0, 244: 0.004275990346435135, 245: 0.0017026098116684942, 246: 0.0, 247: 0.00030606835590050465, 248: 0.002823943052941773, 249: 0.0, 250: 0.0027537819074615584, 251: 0.00032529624222832934, 252: 0.012636436704489279, 253: 0.0, 254: 0.0, 255: 6.519648831829113e-05, 256: 0.013875077167606437, 257: 6.8915408589971e-05, 258: 0.0, 259: 1.2976396220388868e-05, 260: 0.00022949328399640508, 261: 0.030067710660568882, 262: 0.0, 263: 0.001028293274906754, 264: 0.0008615191946268028, 265: 0.0007366093576934525, 266: 0.0001059112069814461, 267: 0.0, 268: 0.0001797501912913202, 269: 0.00020940154224387812, 270: 0.00017194931600027753, 271: 0.0013754881692221341, 272: 0.0001317172230026228, 273: 0.0, 274: 0.00376390122510597, 275: 0.0029917613546772883, 276: 0.005467428743494468, 277: 0.0, 278: 0.0, 279: 0.008110105749990094, 280: 6.838563187361073e-05, 281: 0.0, 282: 3.704952753052858e-05, 283: 0.004961419633834355, 284: 0.0002613007492378674, 285: 0.0005005195468138431, 286: 0.0006787725726735626, 287: 0.008149872423899201, 288: 0.0, 289: 0.00010717757375962941, 290: 4.713836378918187e-05, 291: 0.004391229759375413, 292: 0.0, 293: 0.0036415793153800223, 294: 0.006508135871302101, 295: 0.00014318479266940007, 296: 0.002178459722282697, 297: 0.004652731308867316, 298: 0.0011635927298098473, 299: 0.00016779483912768517, 300: 0.0, 301: 1.1974979737055816e-05, 302: 7.78967111573729e-05, 303: 6.396807941252146e-05, 304: 0.010491690503547261, 305: 0.0057391461537526995, 306: 0.010491690503547261, 307: 9.932536790744262e-06, 308: 3.09474947974111e-05, 309: 0.0, 310: 0.0002979149852727329, 311: 0.00016119135868371506, 312: 0.00016847853293430688, 313: 0.0001133467868188632, 314: 0.0004361262365558164, 315: 0.00021077390219569856, 316: 0.0, 317: 0.0004718556611202616, 318: 0.00039073231252212057, 319: 1.8426836338262102e-05, 320: 0.0, 321: 0.0, 322: 0.005665534859659369, 323: 0.0011338240484382463, 324: 0.00435048912871218, 325: 0.006962838887544966, 326: 0.0005493728369203306, 327: 0.0, 328: 0.0, 329: 5.301145521841019e-05, 330: 5.9478224260173876e-05, 331: 0.0, 332: 5.049585004831992e-05, 333: 9.174918779670293e-05, 334: 0.0, 335: 1.3963937864224917e-05, 336: 0.0, 337: 0.0017909319579348308, 338: 0.0, 339: 0.0, 340: 0.0, 341: 0.0, 342: 0.010491690503547261, 343: 0.0, 344: 0.0007652471882919602, 345: 0.0010188048684212556, 346: 0.0, 347: 2.405621732733364e-05, 348: 0.006617564700477012, 349: 0.0014415354674245317, 350: 0.00940463677971829, 351: 1.8442437167133827e-05, 352: 0.0, 353: 6.672450455786242e-05, 354: 1.3862760029051447e-05, 355: 4.3360344081854526e-05, 356: 2.979512768539976e-05, 357: 0.0006666055586684897, 358: 0.0017942612194215507, 359: 7.500471686303481e-06, 360: 0.0, 361: 0.00033537074242610305, 362: 0.00044813668938668876, 363: 0.0, 364: 0.003013949509865327, 365: 0.0032812468851260374, 366: 0.003714269544436196, 367: 0.0, 368: 0.0025483177153473296, 369: 0.00019592753238945322, 370: 0.0, 371: 0.0, 372: 0.0, 373: 0.0, 374: 0.00010002421301740466, 375: 0.0, 376: 9.861106311052136e-06, 377: 0.0011930020845122501, 378: 0.0004987396288590315, 379: 0.00011578232521459244, 380: 0.0, 381: 0.0, 382: 0.0, 383: 0.0, 384: 7.484643570375771e-05, 385: 0.0020396220905206266, 386: 0.0, 387: 0.0, 388: 2.6010313118787487e-05, 389: 0.0, 390: 0.0, 391: 0.0005750833489314041, 392: 0.006509770342690414, 393: 0.0, 394: 0.0007267702005022157, 395: 1.5440454530096542e-05, 396: 0.0, 397: 0.0, 398: 7.670175226002644e-05, 399: 0.0, 400: 0.0009377055423538929, 401: 0.005678820188254765, 402: 0.0016447215451294154, 403: 0.0, 404: 0.00027113445158357324, 405: 7.542020215242693e-05, 406: 8.611455046217036e-05, 407: 0.0006412387694292336, 408: 0.004194820565231307, 409: 0.0007813885618879101, 410: 1.4346639720841388e-05, 411: 0.0030501881642132013, 412: 2.4685216390283006e-05, 413: 0.0, 414: 0.0, 415: 0.0015173432166695265, 416: 0.0, 417: 0.0, 418: 0.001009169423109365, 419: 0.0, 420: 0.0, 421: 0.010491690503547261, 422: 0.0, 423: 0.0, 424: 0.0, 425: 1.2473940155017653e-05, 426: 0.00011057296831369295, 427: 0.00020402543554960798, 428: 0.00020846525566453746, 429: 0.0, 430: 4.891174537231246e-06, 431: 0.0015158692976842652, 432: 0.0005447731719332655, 433: 0.0009771747028475759, 434: 0.0, 435: 0.0, 436: 0.0, 437: 0.0, 438: 0.0, 439: 0.0, 440: 0.002159542849785255, 441: 0.0, 442: 0.0008066114629110319, 443: 0.0, 444: 0.0012576033248248375, 445: 0.0006003882064859832, 446: 0.0, 447: 0.0008672453280194897, 448: 1.7638103252757384e-05, 449: 0.0009480962989528313, 450: 0.0, 451: 0.00027214201560534965, 452: 0.0005240977544322585, 453: 0.0, 454: 0.0, 455: 0.0035423970233502806, 456: 0.0, 457: 0.0, 458: 0.0, 459: 0.0, 460: 0.0010917917514362992, 461: 0.0, 462: 0.0, 463: 0.0, 464: 0.0, 465: 0.0, 466: 0.0, 467: 0.0, 468: 5.841580632700066e-05, 469: 0.0, 470: 0.0, 471: 0.0, 472: 9.531678127995964e-05, 473: 0.0, 474: 6.209599655207957e-06, 475: 0.0, 476: 0.0, 477: 0.0, 478: 0.0003483434012895164, 479: 0.0, 480: 0.00021038374504175168, 481: 0.0, 482: 0.0, 483: 0.0, 484: 0.012314610064151006, 485: 0.0, 486: 0.0009375686629953005, 487: 0.0001384311969921845, 488: 0.0, 489: 0.0, 490: 0.0004612045869682037, 491: 0.010582295604769667, 492: 0.00031564044547559983, 493: 0.0, 494: 0.0, 495: 0.0, 496: 0.0, 497: 0.0, 498: 7.040261176121288e-05, 499: 0.0006746187027124084, 500: 0.0, 501: 3.699899027769035e-06, 502: 0.0, 503: 0.0, 504: 0.006508205724008894, 505: 1.929669189198454e-05, 506: 0.0, 507: 0.0, 508: 0.0, 509: 0.0, 510: 0.0008082982723701588, 511: 0.0, 512: 0.0, 513: 0.0, 514: 1.5194155063681465e-05, 515: 5.507266037392653e-05, 516: 0.0007176540133236965, 517: 0.0, 518: 0.0, 519: 0.0, 520: 0.0, 521: 0.003083893820264113, 522: 3.8113802883471146e-05, 523: 0.0, 524: 0.0007006184426435044, 525: 0.0, 526: 0.0, 527: 0.0, 528: 2.8078241009920806e-05, 529: 0.0, 530: 0.0, 531: 0.0, 532: 2.654002058598045e-06, 533: 0.0, 534: 0.00014128842981502864, 535: 0.001726068490368262, 536: 3.905593127686966e-05, 537: 0.0, 538: 0.0, 539: 0.0, 540: 0.0, 541: 0.0, 542: 0.0, 543: 0.0, 544: 0.0, 545: 0.010491690503547261, 546: 8.00794256075121e-05, 547: 0.0, 548: 0.00016165044730384517, 549: 0.0, 550: 0.0011007693279449636, 551: 0.00015377370315071924, 552: 0.0, 553: 0.0, 554: 0.0, 555: 0.0015176949305042789, 556: 0.0, 557: 0.0, 558: 0.0, 559: 0.00047087468747937674, 560: 0.0, 561: 0.0, 562: 0.0029790951513820538, 563: 0.0, 564: 0.0, 565: 0.0, 566: 0.0, 567: 5.107551819354252e-06, 568: 0.0, 569: 0.0, 570: 0.0, 571: 0.0, 572: 0.0, 573: 0.0, 574: 0.0, 575: 0.0, 576: 0.0, 577: 0.0, 578: 0.0, 579: 0.0, 580: 0.0, 581: 0.0, 582: 0.0, 583: 0.0, 584: 0.0, 585: 0.0, 586: 0.0, 587: 0.013172943721718788, 588: 0.0, 589: 0.0, 590: 2.2485729172947323e-05, 591: 0.0, 592: 0.0, 593: 0.0, 594: 0.0, 595: 0.0032581109529897065, 596: 0.0, 597: 0.0, 598: 0.0, 599: 0.0, 600: 0.0, 601: 0.0, 602: 0.0016738158151856678, 603: 0.0, 604: 0.0, 605: 0.0, 606: 0.0, 607: 0.0, 608: 0.0, 609: 0.0, 610: 0.010491690503547261, 611: 0.0, 612: 0.0, 613: 0.0, 614: 0.0, 615: 0.0008472904601941312, 616: 0.0, 617: 0.0, 618: 0.0, 619: 0.0, 620: 0.0, 621: 0.0, 622: 0.0, 623: 0.0, 624: 0.0, 625: 0.0, 626: 0.0, 627: 0.0, 628: 0.0, 629: 0.0, 630: 2.3765075813113024e-05, 631: 0.0, 632: 0.0, 633: 0.0, 634: 0.0, 635: 0.0, 636: 0.0, 637: 0.0, 638: 0.0, 639: 0.0, 640: 0.0, 641: 0.0, 642: 0.0, 643: 2.4316454492216975e-06, 644: 0.0, 645: 0.0, 646: 0.0, 647: 0.0, 648: 0.0, 649: 0.0, 650: 0.0, 651: 0.0, 652: 0.0, 653: 0.0, 654: 0.0, 655: 0.0, 656: 0.0, 657: 0.0, 658: 0.0, 659: 0.0, 660: 0.0, 661: 0.0, 662: 0.0, 663: 0.0, 664: 0.0, 665: 0.0, 666: 0.0004107826970449774, 667: 0.0, 668: 0.0016891457824644283, 669: 0.0, 670: 0.0, 671: 0.0, 672: 0.0, 673: 0.0, 674: 0.0, 675: 0.0, 676: 0.0009963801930050937, 677: 0.0, 678: 4.6683315319122667e-05, 679: 0.0, 680: 4.1666818139474364e-05, 681: 0.0, 682: 4.1642872560786705e-05, 683: 0.0, 684: 0.0, 685: 0.0, 686: 0.0, 687: 0.0, 688: 0.0, 689: 0.0, 690: 0.0, 691: 0.0, 692: 0.0, 693: 0.0, 694: 0.0022429407700116943, 695: 0.0, 696: 0.0, 697: 0.0, 698: 0.010491690503547261, 699: 0.0, 700: 0.0, 701: 0.0, 702: 0.0, 703: 0.0, 704: 1.909091848951315e-05, 705: 0.0, 706: 0.0, 707: 0.0, 708: 0.010536037785911938, 709: 0.0, 710: 0.0, 711: 0.0, 712: 0.0009410345825101546, 713: 0.0, 714: 0.0, 715: 0.0, 716: 0.0, 717: 0.0, 718: 0.0, 719: 0.0, 720: 0.0, 721: 0.0, 722: 0.0, 723: 0.0, 724: 0.0, 725: 0.0, 726: 0.0, 727: 0.0, 728: 0.0, 729: 0.0, 730: 0.0, 731: 0.0, 732: 0.0, 733: 0.0, 734: 0.0, 735: 0.000118175676829827, 736: 0.0, 737: 0.0, 738: 0.0, 739: 0.0, 740: 0.0, 741: 0.0, 742: 0.0, 743: 0.0, 744: 0.0, 745: 0.0, 746: 0.0, 747: 0.0, 748: 0.0, 749: 0.0, 750: 0.0, 751: 0.0, 752: 0.0, 753: 0.0, 754: 0.010491690503547261, 755: 0.0, 756: 0.0, 757: 0.0, 758: 0.0, 759: 0.0, 760: 0.0, 761: 0.0, 762: 0.0, 763: 0.0, 764: 0.0, 765: 0.0, 766: 0.0, 767: 0.0, 768: 0.0, 769: 0.0, 770: 0.0, 771: 0.0, 772: 0.0, 773: 0.0, 774: 0.0, 775: 0.0, 776: 0.0, 777: 0.0, 778: 0.0, 779: 0.0, 780: 0.0, 781: 0.0, 782: 0.0, 783: 0.0, 784: 0.0, 785: 0.0, 786: 0.0, 787: 0.0, 788: 0.0, 789: 0.0, 790: 0.0, 791: 0.0, 792: 0.0, 793: 0.0, 794: 0.0, 795: 0.0, 796: 0.0, 797: 0.0, 798: 0.0}\n",
            "DistrustRank results have been saved to 'DistrustRank_Results.txt'\n"
          ]
        }
      ],
      "source": [
        "# Main execution: Load transaction and malicious sender data\n",
        "\n",
        "paym_path_locat = 'Payments.xlsx'  # Path to the payments data file\n",
        "transaction_data = pd.read_excel(paym_path_locat)  # Read payment transactions\n",
        "\n",
        "sender_bad_path_locat = 'bad_sender.xlsx'  # Path to malicious sender data\n",
        "malicious_senders = list(set(pd.read_excel(sender_bad_path_locat)[\"Bad Sender\"]))  # Load and store malicious sender IDs\n",
        "\n",
        "\n",
        "# Extract unique senders and receivers from transaction data\n",
        "unique_senders = set(transaction_data[\"Sender\"])\n",
        "unique_receivers = set(transaction_data[\"Receiver\"])\n",
        "\n",
        "# Merge both sender and receiver sets to get all unique nodes\n",
        "unique_nodes = list(unique_senders.union(unique_receivers))\n",
        "\n",
        "# Create a mapping of each unique node to a unique index\n",
        "node_mapping = {}\n",
        "index = 0\n",
        "while index < len(unique_nodes):\n",
        "    node_mapping[unique_nodes[index]] = index  # Assign unique index to each node\n",
        "    index += 1\n",
        "\n",
        "# Convert unique nodes into a list of node indices\n",
        "network_nodes = []\n",
        "index = 0\n",
        "while index < len(unique_nodes):\n",
        "    network_nodes.append(node_mapping.get(unique_nodes[index]))  # Map each node to its index\n",
        "    index += 1\n",
        "\n",
        "# Convert malicious sender IDs into indices using the same mapping\n",
        "malicious_indices = []\n",
        "index = 0\n",
        "while index < len(malicious_senders):\n",
        "    malicious_indices.append(node_mapping.get(malicious_senders[index]))  # Convert to index-based representation\n",
        "    index += 1\n",
        "\n",
        "# Process transactions to build the network graph with edge weights\n",
        "edge_connections, mapped_connections, edge_weights, network_nodes = process_network_data(\n",
        "    transaction_data, node_mapping, network_nodes, malicious_indices\n",
        ")\n",
        "\n",
        "# Initialize trust scores based on malicious nodes\n",
        "initial_scores = initialize_trust_scores(network_nodes, malicious_indices)\n",
        "\n",
        "# Create computation nodes for the distributed trust ranking\n",
        "computation_nodes = []\n",
        "i = 0\n",
        "while i < len(network_nodes):\n",
        "    computation_nodes.append(DistrustRankNode(network_nodes[i], initial_scores[i], [], [], 0.85, 100))  # Initialize nodes\n",
        "    i += 1\n",
        "\n",
        "# Establish node connections and assign weight distributions\n",
        "source_nodes = list(mapped_connections.keys())  # Get all source nodes\n",
        "source_index = 0\n",
        "\n",
        "while source_index < len(source_nodes):\n",
        "    source_node = source_nodes[source_index]\n",
        "    total_weight = sum(edge_weights[source_node].values())  # Sum of all outgoing edge weights\n",
        "\n",
        "    # Compute normalized connection weights\n",
        "    weights = list(edge_weights[source_node].values())\n",
        "    connection_weights = []\n",
        "    weight_index = 0\n",
        "    while weight_index < len(weights):\n",
        "        connection_weights.append(weights[weight_index] / total_weight)  # Normalize weights\n",
        "        weight_index = weight_index + 1\n",
        "\n",
        "    # Assign connections and weights to computation nodes\n",
        "    target_nodes = list(mapped_connections[source_node])\n",
        "    target_index = 0\n",
        "    while target_index < len(target_nodes):\n",
        "        target_node = target_nodes[target_index]\n",
        "        computation_nodes[source_node].connected_nodes.append(computation_nodes[target_node])  # Connect nodes\n",
        "        computation_nodes[source_node].edge_weights.append(connection_weights[target_index])  # Assign weights\n",
        "        target_index = target_index + 1\n",
        "\n",
        "    source_index += 1  # Move to the next source node\n",
        "\n",
        "# Compute final distrust rankings using the distributed computation model\n",
        "final_ranks, computation_engine = compute_distrust_rank(computation_nodes)\n",
        "\n",
        "# Print the computed trust scores for each node\n",
        "print(\"Pregel TrustRank result : \\n\", dict(zip(network_nodes, final_ranks.A1)))\n",
        "\n",
        "# Save the final rankings to a text file for further analysis\n",
        "with open(\"DistrustRank_Results.txt\", \"w\") as f:\n",
        "    f.write(\"Node ID\\tTrust Score\\n\")  # Header row\n",
        "    index = 0\n",
        "    while index < len(network_nodes):\n",
        "        f.write(f\"{network_nodes[index]}\\t{final_ranks.A1[index]}\\n\")  # Write node ID and trust score\n",
        "        index += 1\n",
        "\n",
        "print(\"DistrustRank results have been saved to 'DistrustRank_Results.txt'\")  # Confirmation message\n"
      ]
    },
    {
      "cell_type": "markdown",
      "source": [
        "## Visualization of Trust Scores\n",
        "\n",
        "This section generates a bar chart to visualize the computed trust scores for each node.\n",
        "\n",
        "1. **Bar Chart Creation**: Plots trust scores (`final_ranks.A1`) for each node.\n",
        "2. **Graph Formatting**: Adjusts figure size, colors, and transparency for readability.\n",
        "3. **Labeling**: Adds appropriate axis labels and a title.\n",
        "4. **X-axis Adjustment**: Rotates node labels to prevent overlap.\n",
        "5. **Grid Addition**: Improves visualization with a y-axis grid.\n",
        "6. **File Saving**: Stores the graph as `DistrustRank_Graph.png` for documentation.\n",
        "7. **Displaying the Graph**: The `plt.show()` function renders the plot.\n",
        "\n",
        "This visualization helps in analyzing how trust scores are distributed among nodes.\n"
      ],
      "metadata": {
        "id": "47RFesYt74XC"
      }
    },
    {
      "cell_type": "code",
      "execution_count": 12,
      "metadata": {
        "colab": {
          "base_uri": "https://localhost:8080/",
          "height": 495
        },
        "id": "pr34wkPzlzJf",
        "outputId": "57eec1c9-2bf3-4d6a-b8ac-23fb9bcc2799"
      },
      "outputs": [
        {
          "output_type": "display_data",
          "data": {
            "text/plain": [
              "<Figure size 1000x500 with 1 Axes>"
            ],
            "image/png": "[encoded data removed]"
          },
          "metadata": {}
        }
      ],
      "source": [
        "# Import matplotlib for visualization\n",
        "import matplotlib.pyplot as plt\n",
        "\n",
        "# Create a bar chart to visualize Trust Scores for each Node\n",
        "plt.figure(figsize=(10, 5))  # Set figure size for better readability\n",
        "plt.bar(network_nodes, final_ranks.A1, color='blue', alpha=0.7)  # Plot trust scores\n",
        "\n",
        "# Label the axes\n",
        "plt.xlabel(\"Node ID\")  # X-axis represents unique node identifiers\n",
        "plt.ylabel(\"Trust Score\")  # Y-axis represents computed trust scores\n",
        "\n",
        "# Set the title for the graph\n",
        "plt.title(\"Trust Score vs Node ID (DistrustRank)\")\n",
        "\n",
        "# Rotate x-axis labels if needed for better readability\n",
        "plt.xticks(rotation=90)\n",
        "\n",
        "# Add a grid to the y-axis for better visualization\n",
        "plt.grid(axis='y', linestyle='-', alpha=0.7)\n",
        "\n",
        "# Save the generated plot as an image file\n",
        "plt.savefig(\"DistrustRank_Graph.png\", dpi=300, bbox_inches=\"tight\")\n",
        "\n",
        "# Display the plot\n",
        "plt.show()\n"
      ]
    },
    {
      "cell_type": "markdown",
      "source": [
        "## Trust Rank Distribution Visualization\n",
        "\n",
        "This section generates a histogram to analyze the distribution of trust scores across all nodes.\n",
        "\n",
        "1. **Histogram Creation**: Uses 20 bins to categorize trust scores into intervals.\n",
        "2. **Graph Formatting**: Colors the bars red and outlines them for clarity.\n",
        "3. **Labeling**: Adds axis labels and a title for better understanding.\n",
        "4. **Grid Addition**: Adds a y-axis grid to help interpret the distribution.\n",
        "5. **Saving the Plot**: Stores the histogram as `DistrustRank_Distribution.png`.\n",
        "6. **Displaying the Graph**: The `plt.show()` function renders the histogram.\n",
        "\n",
        "This visualization helps identify patterns in trust scores, such as clustering or anomalies.\n"
      ],
      "metadata": {
        "id": "CYfh_AYb8Aos"
      }
    },
    {
      "cell_type": "code",
      "execution_count": 13,
      "metadata": {
        "colab": {
          "base_uri": "https://localhost:8080/",
          "height": 487
        },
        "id": "GMInsCpomGXu",
        "outputId": "1ae5abbb-fed2-4292-86bc-83125f40cb0f"
      },
      "outputs": [
        {
          "output_type": "display_data",
          "data": {
            "text/plain": [
              "<Figure size 1000x500 with 1 Axes>"
            ],
            "image/png": "[encoded data removed]"
          },
          "metadata": {}
        }
      ],
      "source": [
        "# Importing libraries\n",
        "import matplotlib.pyplot as plt\n",
        "import numpy as np\n",
        "\n",
        "# Create a histogram to visualize the distribution of trust scores\n",
        "plt.figure(figsize=(10, 5))\n",
        "\n",
        "# Plot histogram with 20 bins, red color, and edge outlining\n",
        "counts, bins, patches = plt.hist(final_ranks.A1, bins=20, color='red', alpha=0.7, edgecolor='red')\n",
        "\n",
        "# Label the axes\n",
        "plt.xlabel(\"Trust Score\")\n",
        "plt.ylabel(\"Frequency\")\n",
        "plt.title(\"Distribution of Trust Rank Values\")\n",
        "\n",
        "# Add a grid on the y-axis\n",
        "plt.grid(axis='y', linestyle='--', alpha=0.7)\n",
        "\n",
        "# Annotate each bar with the corresponding count\n",
        "for count, bin_patch in zip(counts, patches):\n",
        "    if count > 0:  # Avoid labeling bars with zero count\n",
        "        plt.text(bin_patch.get_x() + bin_patch.get_width() / 2, count,\n",
        "                 str(int(count)), ha='center', va='bottom', fontsize=10, color='black')\n",
        "\n",
        "# Save the histogram plot as an image file\n",
        "plt.savefig(\"DistrustRank_Distribution.png\", dpi=300, bbox_inches=\"tight\")\n",
        "\n",
        "# Display the plot\n",
        "plt.show()\n"
      ]
    },
    {
      "cell_type": "code",
      "execution_count": 14,
      "metadata": {
        "id": "vpiET6MUp03a",
        "colab": {
          "base_uri": "https://localhost:8080/",
          "height": 487
        },
        "outputId": "00646966-3103-476e-e87b-8fe888938b43"
      },
      "outputs": [
        {
          "output_type": "display_data",
          "data": {
            "text/plain": [
              "<Figure size 1000x500 with 1 Axes>"
            ],
            "image/png": "[encoded data removed]"
          },
          "metadata": {}
        }
      ],
      "source": [
        "\n",
        "import matplotlib.pyplot as plt\n",
        "import numpy as np\n",
        "from collections import OrderedDict\n",
        "\n",
        "# Mapping nodes to their computed trust ranks\n",
        "distrust_rank_dict = OrderedDict(zip(network_nodes, final_ranks.A1))\n",
        "\n",
        "# Sorting nodes based on their trust rank values\n",
        "sorted_nodes = list(OrderedDict(sorted(distrust_rank_dict.items(), key=lambda x: x[1], reverse=True)))\n",
        "\n",
        "# Extracting trust scores for histogram plotting\n",
        "trust_scores = sorted(final_ranks.A1, reverse=True)\n",
        "\n",
        "# Identifying malicious nodes in the ranking list\n",
        "malicious_node_ranks = [sorted_nodes.index(node) for node in malicious_indices if node in sorted_nodes]\n",
        "\n",
        "# Plot histogram of trust scores with density normalization\n",
        "plt.figure(figsize=(10, 5))\n",
        "counts, bins, patches = plt.hist(trust_scores, bins=20, color='blue', alpha=0.7, edgecolor='blue', density=True)\n",
        "\n",
        "# Adding labels\n",
        "plt.xlabel(\"Distrust Rank Scores\")\n",
        "plt.ylabel(\"Probability Density\")\n",
        "plt.title(\"Histogram of a Normalized Trust Rank Distribution\")\n",
        "\n",
        "# Annotate each bar with the corresponding count (rounded to 2 decimal places)\n",
        "for count, bin_patch in zip(counts, patches):\n",
        "    if count > 0:  # Avoid labeling bars with zero count\n",
        "        plt.text(bin_patch.get_x() + bin_patch.get_width() / 2, count,\n",
        "                 f\"{count:.2f}\", ha='center', va='bottom', fontsize=10, color='black')\n",
        "\n",
        "# Save the histogram plot as an image file\n",
        "plt.savefig(\"Normalized_TrustRank_Distribution.png\", dpi=300, bbox_inches=\"tight\")\n",
        "# Display the histogram\n",
        "plt.grid(axis='y', linestyle='--', alpha=0.7)\n",
        "plt.show()\n"
      ]
    }
  ],
  "metadata": {
    "colab": {
      "provenance": []
    },
    "kernelspec": {
      "display_name": "base",
      "language": "python",
      "name": "python3"
    },
    "language_info": {
      "codemirror_mode": {
        "name": "ipython",
        "version": 3
      },
      "file_extension": ".py",
      "mimetype": "text/x-python",
      "name": "python",
      "nbconvert_exporter": "python",
      "pygments_lexer": "ipython3",
      "version": "3.12.2"
    }
  },
  "nbformat": 4,
  "nbformat_minor": 0
}